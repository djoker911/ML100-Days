{
 "cells": [
  {
   "cell_type": "markdown",
   "metadata": {},
   "source": [
    "## Work\n",
    "1. 試改變 monitor \"Validation Accuracy\" 並比較結果\n",
    "2. 調整 earlystop 的等待次數至 10, 25 並比較結果"
   ]
  },
  {
   "cell_type": "code",
   "execution_count": 1,
   "metadata": {},
   "outputs": [
    {
     "name": "stderr",
     "output_type": "stream",
     "text": [
      "Using TensorFlow backend.\n"
     ]
    }
   ],
   "source": [
    "import os\n",
    "import keras\n",
    "import matplotlib.pyplot as plt\n",
    "%matplotlib inline\n",
    "\n",
    "os.environ[\"KMP_DUPLICATE_LIB_OK\"]=\"TRUE\"\n",
    "# Disable GPU\n",
    "os.environ[\"CUDA_VISIBLE_DEVICES\"] = \"\""
   ]
  },
  {
   "cell_type": "code",
   "execution_count": 2,
   "metadata": {},
   "outputs": [],
   "source": [
    "train, test = keras.datasets.cifar10.load_data()"
   ]
  },
  {
   "cell_type": "code",
   "execution_count": 3,
   "metadata": {},
   "outputs": [],
   "source": [
    "## 資料前處理\n",
    "def preproc_x(x, flatten=True):\n",
    "    x = x / 255.\n",
    "    if flatten:\n",
    "        x = x.reshape((len(x), -1))\n",
    "    return x\n",
    "\n",
    "def preproc_y(y, num_classes=10):\n",
    "    if y.shape[-1] == 1:\n",
    "        y = keras.utils.to_categorical(y, num_classes)\n",
    "    return y    "
   ]
  },
  {
   "cell_type": "code",
   "execution_count": 4,
   "metadata": {},
   "outputs": [],
   "source": [
    "x_train, y_train = train\n",
    "x_test, y_test = test\n",
    "\n",
    "# Preproc the inputs\n",
    "x_train = preproc_x(x_train)\n",
    "x_test = preproc_x(x_test)\n",
    "\n",
    "# Preprc the outputs\n",
    "y_train = preproc_y(y_train)\n",
    "y_test = preproc_y(y_test)"
   ]
  },
  {
   "cell_type": "code",
   "execution_count": 5,
   "metadata": {},
   "outputs": [],
   "source": [
    "# Hint 1 : 在 Dense 層中增加 Regularizers\n",
    "# Hint 2 : 增加 Dropout 層並設定 dropout ratio \n",
    "# Hint 3 : 增加 Batch-normalization 層\n",
    "from keras.layers import BatchNormalization, Dropout\n",
    "from keras.regularizers import l2\n",
    "def build_mlp(input_shape, output_units=10, num_neurons=[512, 256, 128], drp_ratio=0.4, l2_ratio=1e-4):\n",
    "    input_layer = keras.layers.Input(input_shape)\n",
    "    \n",
    "    for i, n_units in enumerate(num_neurons):\n",
    "        if i == 0:\n",
    "            x = keras.layers.Dense(units=n_units, \n",
    "                                   activation=\"relu\", \n",
    "                                   name=\"hidden_layer\"+str(i+1),\n",
    "                                   kernel_regularizer=l2(l2_ratio))(input_layer)\n",
    "            x = Dropout(drp_ratio)(x)\n",
    "            x = BatchNormalization()(x)\n",
    "        else:\n",
    "            x = keras.layers.Dense(units=n_units, \n",
    "                                   activation=\"relu\", \n",
    "                                   name=\"hidden_layer\"+str(i+1),\n",
    "                                   kernel_regularizer=l2(l2_ratio))(x)\n",
    "            x = Dropout(drp_ratio)(x)\n",
    "            x = BatchNormalization()(x)\n",
    "    \n",
    "    out = keras.layers.Dense(units=output_units, activation=\"softmax\", name=\"output\")(x)\n",
    "    \n",
    "    model = keras.models.Model(inputs=[input_layer], outputs=[out])\n",
    "    return model"
   ]
  },
  {
   "cell_type": "code",
   "execution_count": 6,
   "metadata": {},
   "outputs": [],
   "source": [
    "## 超參數設定\n",
    "LEARNING_RATE = 1e-3\n",
    "EPOCHS = 50\n",
    "BATCH_SIZE = 256\n",
    "MOMENTUM = 0.95\n",
    "Dropout_EXP = 0.25"
   ]
  },
  {
   "cell_type": "code",
   "execution_count": 10,
   "metadata": {},
   "outputs": [],
   "source": [
    "# 載入 Callbacks\n",
    "\"\"\"\n",
    "Earlystop setting\n",
    "\"\"\"\n",
    "from keras.callbacks import EarlyStopping\n",
    "\n",
    "earlystop = EarlyStopping(monitor=\"val_loss\", \n",
    "                          patience=10, \n",
    "                          verbose=1\n",
    "                          )"
   ]
  },
  {
   "cell_type": "code",
   "execution_count": 11,
   "metadata": {},
   "outputs": [
    {
     "name": "stdout",
     "output_type": "stream",
     "text": [
      "_________________________________________________________________\n",
      "Layer (type)                 Output Shape              Param #   \n",
      "=================================================================\n",
      "input_2 (InputLayer)         (None, 3072)              0         \n",
      "_________________________________________________________________\n",
      "hidden_layer1 (Dense)        (None, 512)               1573376   \n",
      "_________________________________________________________________\n",
      "dropout_4 (Dropout)          (None, 512)               0         \n",
      "_________________________________________________________________\n",
      "batch_normalization_4 (Batch (None, 512)               2048      \n",
      "_________________________________________________________________\n",
      "hidden_layer2 (Dense)        (None, 256)               131328    \n",
      "_________________________________________________________________\n",
      "dropout_5 (Dropout)          (None, 256)               0         \n",
      "_________________________________________________________________\n",
      "batch_normalization_5 (Batch (None, 256)               1024      \n",
      "_________________________________________________________________\n",
      "hidden_layer3 (Dense)        (None, 128)               32896     \n",
      "_________________________________________________________________\n",
      "dropout_6 (Dropout)          (None, 128)               0         \n",
      "_________________________________________________________________\n",
      "batch_normalization_6 (Batch (None, 128)               512       \n",
      "_________________________________________________________________\n",
      "output (Dense)               (None, 10)                1290      \n",
      "=================================================================\n",
      "Total params: 1,742,474\n",
      "Trainable params: 1,740,682\n",
      "Non-trainable params: 1,792\n",
      "_________________________________________________________________\n",
      "Train on 50000 samples, validate on 10000 samples\n",
      "Epoch 1/50\n",
      "50000/50000 [==============================] - 27s 531us/step - loss: 2.2341 - acc: 0.2726 - val_loss: 2.0247 - val_acc: 0.3109\n",
      "Epoch 2/50\n",
      "50000/50000 [==============================] - 22s 444us/step - loss: 1.9615 - acc: 0.3439 - val_loss: 1.9078 - val_acc: 0.3587\n",
      "Epoch 3/50\n",
      "50000/50000 [==============================] - 22s 444us/step - loss: 1.8561 - acc: 0.3792 - val_loss: 1.8609 - val_acc: 0.3753\n",
      "Epoch 4/50\n",
      "50000/50000 [==============================] - 22s 447us/step - loss: 1.8047 - acc: 0.4001 - val_loss: 1.7394 - val_acc: 0.4159\n",
      "Epoch 5/50\n",
      "50000/50000 [==============================] - 22s 446us/step - loss: 1.7777 - acc: 0.4078 - val_loss: 1.7231 - val_acc: 0.4204\n",
      "Epoch 6/50\n",
      "50000/50000 [==============================] - 23s 452us/step - loss: 1.7686 - acc: 0.4070 - val_loss: 1.7728 - val_acc: 0.3911\n",
      "Epoch 7/50\n",
      "50000/50000 [==============================] - 23s 459us/step - loss: 1.7540 - acc: 0.4123 - val_loss: 1.6877 - val_acc: 0.4423\n",
      "Epoch 8/50\n",
      "50000/50000 [==============================] - 23s 453us/step - loss: 1.7325 - acc: 0.4180 - val_loss: 1.7979 - val_acc: 0.4180\n",
      "Epoch 9/50\n",
      "50000/50000 [==============================] - 23s 450us/step - loss: 1.7072 - acc: 0.4302 - val_loss: 1.6485 - val_acc: 0.4508\n",
      "Epoch 10/50\n",
      "50000/50000 [==============================] - 22s 446us/step - loss: 1.6872 - acc: 0.4354 - val_loss: 1.6341 - val_acc: 0.4513\n",
      "Epoch 11/50\n",
      "50000/50000 [==============================] - 22s 446us/step - loss: 1.6644 - acc: 0.4369 - val_loss: 1.6669 - val_acc: 0.4333\n",
      "Epoch 12/50\n",
      "50000/50000 [==============================] - 22s 448us/step - loss: 1.6443 - acc: 0.4458 - val_loss: 1.7074 - val_acc: 0.4251\n",
      "Epoch 13/50\n",
      "50000/50000 [==============================] - 22s 449us/step - loss: 1.6324 - acc: 0.4445 - val_loss: 1.7055 - val_acc: 0.4151\n",
      "Epoch 14/50\n",
      "50000/50000 [==============================] - 23s 451us/step - loss: 1.6165 - acc: 0.4526 - val_loss: 1.5681 - val_acc: 0.4688\n",
      "Epoch 15/50\n",
      "50000/50000 [==============================] - 23s 450us/step - loss: 1.5935 - acc: 0.4575 - val_loss: 1.6079 - val_acc: 0.4447\n",
      "Epoch 16/50\n",
      "50000/50000 [==============================] - 23s 451us/step - loss: 1.5918 - acc: 0.4581 - val_loss: 1.5439 - val_acc: 0.4732\n",
      "Epoch 17/50\n",
      "50000/50000 [==============================] - 23s 451us/step - loss: 1.5801 - acc: 0.4598 - val_loss: 1.5256 - val_acc: 0.4792\n",
      "Epoch 18/50\n",
      "50000/50000 [==============================] - 23s 453us/step - loss: 1.5659 - acc: 0.4633 - val_loss: 1.5334 - val_acc: 0.4802\n",
      "Epoch 19/50\n",
      "50000/50000 [==============================] - 24s 480us/step - loss: 1.5607 - acc: 0.4646 - val_loss: 1.5454 - val_acc: 0.4623\n",
      "Epoch 20/50\n",
      "50000/50000 [==============================] - 21s 424us/step - loss: 1.5514 - acc: 0.4661 - val_loss: 1.5311 - val_acc: 0.4642\n",
      "Epoch 21/50\n",
      "50000/50000 [==============================] - 20s 404us/step - loss: 1.5414 - acc: 0.4686 - val_loss: 1.5099 - val_acc: 0.4760\n",
      "Epoch 22/50\n",
      "50000/50000 [==============================] - 20s 405us/step - loss: 1.5373 - acc: 0.4660 - val_loss: 1.8078 - val_acc: 0.3675\n",
      "Epoch 23/50\n",
      "50000/50000 [==============================] - 20s 406us/step - loss: 1.5261 - acc: 0.4732 - val_loss: 1.5278 - val_acc: 0.4643\n",
      "Epoch 24/50\n",
      "50000/50000 [==============================] - 20s 406us/step - loss: 1.5198 - acc: 0.4743 - val_loss: 1.4939 - val_acc: 0.4820\n",
      "Epoch 25/50\n",
      "50000/50000 [==============================] - 20s 407us/step - loss: 1.5100 - acc: 0.4789 - val_loss: 1.5173 - val_acc: 0.4810\n",
      "Epoch 26/50\n",
      "50000/50000 [==============================] - 20s 407us/step - loss: 1.5026 - acc: 0.4803 - val_loss: 1.4997 - val_acc: 0.4786\n",
      "Epoch 27/50\n",
      "50000/50000 [==============================] - 22s 431us/step - loss: 1.5087 - acc: 0.4804 - val_loss: 1.5507 - val_acc: 0.4742\n",
      "Epoch 28/50\n",
      "50000/50000 [==============================] - 26s 529us/step - loss: 1.5087 - acc: 0.4801 - val_loss: 1.4684 - val_acc: 0.4962\n",
      "Epoch 29/50\n",
      "50000/50000 [==============================] - 23s 465us/step - loss: 1.4958 - acc: 0.4814 - val_loss: 1.5483 - val_acc: 0.4663\n",
      "Epoch 30/50\n",
      "50000/50000 [==============================] - 23s 458us/step - loss: 1.5020 - acc: 0.4805 - val_loss: 1.5086 - val_acc: 0.4774\n",
      "Epoch 31/50\n",
      "50000/50000 [==============================] - 22s 439us/step - loss: 1.4997 - acc: 0.4812 - val_loss: 1.5248 - val_acc: 0.4770\n",
      "Epoch 32/50\n",
      "50000/50000 [==============================] - 22s 438us/step - loss: 1.4948 - acc: 0.4851 - val_loss: 1.4297 - val_acc: 0.5085\n",
      "Epoch 33/50\n",
      "50000/50000 [==============================] - 22s 444us/step - loss: 1.5007 - acc: 0.4822 - val_loss: 1.5342 - val_acc: 0.4694\n",
      "Epoch 34/50\n",
      "50000/50000 [==============================] - 22s 439us/step - loss: 1.4967 - acc: 0.4860 - val_loss: 1.4975 - val_acc: 0.4774\n",
      "Epoch 35/50\n",
      "50000/50000 [==============================] - 22s 440us/step - loss: 1.4959 - acc: 0.4847 - val_loss: 1.4984 - val_acc: 0.4810\n",
      "Epoch 36/50\n",
      "50000/50000 [==============================] - 22s 439us/step - loss: 1.4866 - acc: 0.4879 - val_loss: 1.4440 - val_acc: 0.5044\n",
      "Epoch 37/50\n",
      "50000/50000 [==============================] - 22s 444us/step - loss: 1.4807 - acc: 0.4872 - val_loss: 1.4603 - val_acc: 0.4963\n",
      "Epoch 38/50\n",
      "50000/50000 [==============================] - 22s 441us/step - loss: 1.4770 - acc: 0.4905 - val_loss: 1.5077 - val_acc: 0.4830\n",
      "Epoch 39/50\n",
      "50000/50000 [==============================] - 22s 442us/step - loss: 1.4654 - acc: 0.4938 - val_loss: 1.4517 - val_acc: 0.4966\n",
      "Epoch 40/50\n",
      "50000/50000 [==============================] - 23s 453us/step - loss: 1.4679 - acc: 0.4955 - val_loss: 1.4647 - val_acc: 0.4951\n",
      "Epoch 41/50\n",
      "50000/50000 [==============================] - 23s 465us/step - loss: 1.4705 - acc: 0.4920 - val_loss: 1.4667 - val_acc: 0.4941\n",
      "Epoch 42/50\n",
      "50000/50000 [==============================] - 21s 411us/step - loss: 1.4608 - acc: 0.4963 - val_loss: 1.5061 - val_acc: 0.4794\n",
      "Epoch 00042: early stopping\n"
     ]
    }
   ],
   "source": [
    "\"\"\"\n",
    "Your Training loop and Plot the results\n",
    "\"\"\"\n",
    "model = build_mlp(input_shape=x_train.shape[1:], drp_ratio=Dropout_EXP)\n",
    "model.summary()\n",
    "optimizer = keras.optimizers.Adamax(lr=0.002, beta_1=0.9, beta_2=0.999, epsilon=None, decay=0.0)\n",
    "model.compile(loss=\"categorical_crossentropy\", metrics=[\"accuracy\"], optimizer=optimizer)\n",
    "\n",
    "model.fit(x_train, y_train, \n",
    "          epochs=EPOCHS, \n",
    "          batch_size=BATCH_SIZE, \n",
    "          validation_data=(x_test, y_test), \n",
    "          shuffle=True,\n",
    "          callbacks=[earlystop]\n",
    "         )\n",
    "\n",
    "# Collect results\n",
    "train_loss = model.history.history[\"loss\"]\n",
    "valid_loss = model.history.history[\"val_loss\"]\n",
    "train_acc = model.history.history[\"acc\"]\n",
    "valid_acc = model.history.history[\"val_acc\"]"
   ]
  },
  {
   "cell_type": "code",
   "execution_count": 12,
   "metadata": {},
   "outputs": [
    {
     "data": {
      "image/png": "[encoded data removed]",
      "text/plain": [
       "<Figure size 432x288 with 1 Axes>"
      ]
     },
     "metadata": {
      "needs_background": "light"
     },
     "output_type": "display_data"
    },
    {
     "data": {
      "image/png": "[encoded data removed]",
      "text/plain": [
       "<Figure size 432x288 with 1 Axes>"
      ]
     },
     "metadata": {
      "needs_background": "light"
     },
     "output_type": "display_data"
    }
   ],
   "source": [
    "import matplotlib.pyplot as plt\n",
    "%matplotlib inline\n",
    "\n",
    "plt.plot(range(len(train_loss)), train_loss, label=\"train loss\")\n",
    "plt.plot(range(len(valid_loss)), valid_loss, label=\"valid loss\")\n",
    "plt.legend()\n",
    "plt.title(\"Loss\")\n",
    "plt.show()\n",
    "\n",
    "plt.plot(range(len(train_acc)), train_acc, label=\"train accuracy\")\n",
    "plt.plot(range(len(valid_acc)), valid_acc, label=\"valid accuracy\")\n",
    "plt.legend()\n",
    "plt.title(\"Accuracy\")\n",
    "plt.show()"
   ]
  },
  {
   "cell_type": "code",
   "execution_count": null,
   "metadata": {},
   "outputs": [],
   "source": []
  }
 ],
 "metadata": {
  "kernelspec": {
   "display_name": "Python 3",
   "language": "python",
   "name": "python3"
  },
  "language_info": {
   "codemirror_mode": {
    "name": "ipython",
    "version": 3
   },
   "file_extension": ".py",
   "mimetype": "text/x-python",
   "name": "python",
   "nbconvert_exporter": "python",
   "pygments_lexer": "ipython3",
   "version": "3.6.8"
  }
 },
 "nbformat": 4,
 "nbformat_minor": 2
}
