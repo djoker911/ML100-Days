{
 "cells": [
  {
   "cell_type": "markdown",
   "metadata": {},
   "source": [
    "## Work\n",
    "1. 試改變 monitor \"Validation Accuracy\" 並比較結果\n",
    "2. 調整 earlystop 的等待次數至 10, 25 並比較結果"
   ]
  },
  {
   "cell_type": "code",
   "execution_count": 2,
   "metadata": {},
   "outputs": [],
   "source": [
    "import os\n",
    "import keras\n",
    "import matplotlib.pyplot as plt\n",
    "%matplotlib inline\n",
    "\n",
    "os.environ[\"KMP_DUPLICATE_LIB_OK\"]=\"TRUE\"\n",
    "# Disable GPU\n",
    "os.environ[\"CUDA_VISIBLE_DEVICES\"] = \"\""
   ]
  },
  {
   "cell_type": "code",
   "execution_count": 3,
   "metadata": {},
   "outputs": [],
   "source": [
    "train, test = keras.datasets.cifar10.load_data()"
   ]
  },
  {
   "cell_type": "code",
   "execution_count": 4,
   "metadata": {},
   "outputs": [],
   "source": [
    "## 資料前處理\n",
    "def preproc_x(x, flatten=True):\n",
    "    x = x / 255.\n",
    "    if flatten:\n",
    "        x = x.reshape((len(x), -1))\n",
    "    return x\n",
    "\n",
    "def preproc_y(y, num_classes=10):\n",
    "    if y.shape[-1] == 1:\n",
    "        y = keras.utils.to_categorical(y, num_classes)\n",
    "    return y    "
   ]
  },
  {
   "cell_type": "code",
   "execution_count": 5,
   "metadata": {},
   "outputs": [],
   "source": [
    "x_train, y_train = train\n",
    "x_test, y_test = test\n",
    "\n",
    "# Preproc the inputs\n",
    "x_train = preproc_x(x_train)\n",
    "x_test = preproc_x(x_test)\n",
    "\n",
    "# Preprc the outputs\n",
    "y_train = preproc_y(y_train)\n",
    "y_test = preproc_y(y_test)"
   ]
  },
  {
   "cell_type": "code",
   "execution_count": 10,
   "metadata": {},
   "outputs": [],
   "source": [
    "# Hint 1 : 在 Dense 層中增加 Regularizers\n",
    "# Hint 2 : 增加 Dropout 層並設定 dropout ratio \n",
    "# Hint 3 : 增加 Batch-normalization 層\n",
    "from keras.layers import BatchNormalization, Dropout\n",
    "from keras.regularizers import l2\n",
    "def build_mlp(input_shape, output_units=10, num_neurons=[512, 256, 128], drp_ratio=0.4, l2_ratio=1e-4):\n",
    "    input_layer = keras.layers.Input(input_shape)\n",
    "    \n",
    "    for i, n_units in enumerate(num_neurons):\n",
    "        if i == 0:\n",
    "            x = keras.layers.Dense(units=n_units, \n",
    "                                   activation=\"relu\", \n",
    "                                   name=\"hidden_layer\"+str(i+1),\n",
    "                                   kernel_regularizer=l2(l2_ratio))(input_layer)\n",
    "            x = Dropout(drp_ratio)(x)\n",
    "            x = BatchNormalization()(x)\n",
    "        else:\n",
    "            x = keras.layers.Dense(units=n_units, \n",
    "                                   activation=\"relu\", \n",
    "                                   name=\"hidden_layer\"+str(i+1),\n",
    "                                   kernel_regularizer=l2(l2_ratio))(x)\n",
    "            x = Dropout(drp_ratio)(x)\n",
    "            x = BatchNormalization()(x)\n",
    "    \n",
    "    out = keras.layers.Dense(units=output_units, activation=\"softmax\", name=\"output\")(x)\n",
    "    \n",
    "    model = keras.models.Model(inputs=[input_layer], outputs=[out])\n",
    "    return model"
   ]
  },
  {
   "cell_type": "code",
   "execution_count": 11,
   "metadata": {},
   "outputs": [],
   "source": [
    "## 超參數設定\n",
    "LEARNING_RATE = 1e-3\n",
    "EPOCHS = 50\n",
    "BATCH_SIZE = 256\n",
    "MOMENTUM = 0.95\n",
    "Dropout_EXP = 0.25"
   ]
  },
  {
   "cell_type": "code",
   "execution_count": 12,
   "metadata": {},
   "outputs": [],
   "source": [
    "# 載入 Callbacks\n",
    "\"\"\"\n",
    "Earlystop setting\n",
    "\"\"\"\n",
    "from keras.callbacks import EarlyStopping\n",
    "\n",
    "earlystop = EarlyStopping(monitor=\"val_loss\", \n",
    "                          patience=10, \n",
    "                          verbose=1\n",
    "                          )"
   ]
  },
  {
   "cell_type": "code",
   "execution_count": 13,
   "metadata": {},
   "outputs": [
    {
     "name": "stdout",
     "output_type": "stream",
     "text": [
      "_________________________________________________________________\n",
      "Layer (type)                 Output Shape              Param #   \n",
      "=================================================================\n",
      "input_1 (InputLayer)         (None, 3072)              0         \n",
      "_________________________________________________________________\n",
      "hidden_layer1 (Dense)        (None, 512)               1573376   \n",
      "_________________________________________________________________\n",
      "dropout_1 (Dropout)          (None, 512)               0         \n",
      "_________________________________________________________________\n",
      "batch_normalization_1 (Batch (None, 512)               2048      \n",
      "_________________________________________________________________\n",
      "hidden_layer2 (Dense)        (None, 256)               131328    \n",
      "_________________________________________________________________\n",
      "dropout_2 (Dropout)          (None, 256)               0         \n",
      "_________________________________________________________________\n",
      "batch_normalization_2 (Batch (None, 256)               1024      \n",
      "_________________________________________________________________\n",
      "hidden_layer3 (Dense)        (None, 128)               32896     \n",
      "_________________________________________________________________\n",
      "dropout_3 (Dropout)          (None, 128)               0         \n",
      "_________________________________________________________________\n",
      "batch_normalization_3 (Batch (None, 128)               512       \n",
      "_________________________________________________________________\n",
      "output (Dense)               (None, 10)                1290      \n",
      "=================================================================\n",
      "Total params: 1,742,474\n",
      "Trainable params: 1,740,682\n",
      "Non-trainable params: 1,792\n",
      "_________________________________________________________________\n",
      "Train on 50000 samples, validate on 10000 samples\n",
      "Epoch 1/50\n",
      "50000/50000 [==============================] - 28s 551us/step - loss: 2.2634 - acc: 0.2647 - val_loss: 1.9978 - val_acc: 0.3128\n",
      "Epoch 2/50\n",
      "50000/50000 [==============================] - 22s 447us/step - loss: 1.9648 - acc: 0.3439 - val_loss: 2.0990 - val_acc: 0.3062\n",
      "Epoch 3/50\n",
      "50000/50000 [==============================] - 22s 449us/step - loss: 1.8741 - acc: 0.3730 - val_loss: 1.8366 - val_acc: 0.3771\n",
      "Epoch 4/50\n",
      "50000/50000 [==============================] - 22s 449us/step - loss: 1.8167 - acc: 0.3929 - val_loss: 1.8056 - val_acc: 0.3944\n",
      "Epoch 5/50\n",
      "50000/50000 [==============================] - 22s 450us/step - loss: 1.7879 - acc: 0.4042 - val_loss: 1.7641 - val_acc: 0.4069\n",
      "Epoch 6/50\n",
      "50000/50000 [==============================] - 23s 452us/step - loss: 1.7504 - acc: 0.4190 - val_loss: 1.7531 - val_acc: 0.4073\n",
      "Epoch 7/50\n",
      "50000/50000 [==============================] - 23s 454us/step - loss: 1.7316 - acc: 0.4219 - val_loss: 1.7549 - val_acc: 0.4080\n",
      "Epoch 8/50\n",
      "50000/50000 [==============================] - 23s 461us/step - loss: 1.7217 - acc: 0.4237 - val_loss: 1.7163 - val_acc: 0.4266\n",
      "Epoch 9/50\n",
      "50000/50000 [==============================] - 23s 453us/step - loss: 1.7125 - acc: 0.4262 - val_loss: 1.6902 - val_acc: 0.4253\n",
      "Epoch 10/50\n",
      "50000/50000 [==============================] - 23s 459us/step - loss: 1.7025 - acc: 0.4287 - val_loss: 1.6284 - val_acc: 0.4502\n",
      "Epoch 11/50\n",
      "50000/50000 [==============================] - 23s 457us/step - loss: 1.6859 - acc: 0.4303 - val_loss: 1.6219 - val_acc: 0.4554\n",
      "Epoch 12/50\n",
      "50000/50000 [==============================] - 23s 456us/step - loss: 1.6768 - acc: 0.4324 - val_loss: 1.6186 - val_acc: 0.4543\n",
      "Epoch 13/50\n",
      "50000/50000 [==============================] - 23s 457us/step - loss: 1.6580 - acc: 0.4388 - val_loss: 1.6228 - val_acc: 0.4486\n",
      "Epoch 14/50\n",
      "50000/50000 [==============================] - 23s 458us/step - loss: 1.6401 - acc: 0.4453 - val_loss: 1.6388 - val_acc: 0.4344\n",
      "Epoch 15/50\n",
      "50000/50000 [==============================] - 23s 457us/step - loss: 1.6316 - acc: 0.4445 - val_loss: 1.6003 - val_acc: 0.4458\n",
      "Epoch 16/50\n",
      "50000/50000 [==============================] - 23s 458us/step - loss: 1.6050 - acc: 0.4534 - val_loss: 1.5783 - val_acc: 0.4609\n",
      "Epoch 17/50\n",
      "50000/50000 [==============================] - 23s 457us/step - loss: 1.6052 - acc: 0.4503 - val_loss: 1.5410 - val_acc: 0.4717\n",
      "Epoch 18/50\n",
      "50000/50000 [==============================] - 23s 460us/step - loss: 1.5823 - acc: 0.4573 - val_loss: 1.5780 - val_acc: 0.4551\n",
      "Epoch 19/50\n",
      "50000/50000 [==============================] - 23s 458us/step - loss: 1.5852 - acc: 0.4566 - val_loss: 1.5667 - val_acc: 0.4649\n",
      "Epoch 20/50\n",
      "50000/50000 [==============================] - 23s 459us/step - loss: 1.5793 - acc: 0.4549 - val_loss: 1.5530 - val_acc: 0.4615\n",
      "Epoch 21/50\n",
      "50000/50000 [==============================] - 23s 459us/step - loss: 1.5847 - acc: 0.4503 - val_loss: 1.5215 - val_acc: 0.4770\n",
      "Epoch 22/50\n",
      "50000/50000 [==============================] - 23s 459us/step - loss: 1.5648 - acc: 0.4585 - val_loss: 1.4942 - val_acc: 0.4842\n",
      "Epoch 23/50\n",
      "50000/50000 [==============================] - 23s 463us/step - loss: 1.5474 - acc: 0.4643 - val_loss: 1.5271 - val_acc: 0.4774\n",
      "Epoch 24/50\n",
      "50000/50000 [==============================] - 23s 463us/step - loss: 1.5499 - acc: 0.4661 - val_loss: 1.5683 - val_acc: 0.4591\n",
      "Epoch 25/50\n",
      "50000/50000 [==============================] - 23s 460us/step - loss: 1.5338 - acc: 0.4713 - val_loss: 1.4982 - val_acc: 0.4838\n",
      "Epoch 26/50\n",
      "50000/50000 [==============================] - 23s 459us/step - loss: 1.5225 - acc: 0.4743 - val_loss: 1.4819 - val_acc: 0.4896\n",
      "Epoch 27/50\n",
      "50000/50000 [==============================] - 23s 461us/step - loss: 1.5174 - acc: 0.4741 - val_loss: 1.5399 - val_acc: 0.4659\n",
      "Epoch 28/50\n",
      "50000/50000 [==============================] - 23s 462us/step - loss: 1.5116 - acc: 0.4761 - val_loss: 1.5896 - val_acc: 0.4519\n",
      "Epoch 29/50\n",
      "50000/50000 [==============================] - 23s 462us/step - loss: 1.5169 - acc: 0.4792 - val_loss: 1.6299 - val_acc: 0.4355\n",
      "Epoch 30/50\n",
      "50000/50000 [==============================] - 23s 462us/step - loss: 1.5093 - acc: 0.4778 - val_loss: 1.5012 - val_acc: 0.4810\n",
      "Epoch 31/50\n",
      "50000/50000 [==============================] - 23s 460us/step - loss: 1.5083 - acc: 0.4784 - val_loss: 1.5038 - val_acc: 0.4830\n",
      "Epoch 32/50\n",
      "50000/50000 [==============================] - 23s 457us/step - loss: 1.4983 - acc: 0.4814 - val_loss: 1.4609 - val_acc: 0.4916\n",
      "Epoch 33/50\n",
      "50000/50000 [==============================] - 23s 462us/step - loss: 1.4842 - acc: 0.4880 - val_loss: 1.4997 - val_acc: 0.4867\n",
      "Epoch 34/50\n",
      "50000/50000 [==============================] - 23s 461us/step - loss: 1.4843 - acc: 0.4901 - val_loss: 1.4624 - val_acc: 0.4901\n",
      "Epoch 35/50\n",
      "50000/50000 [==============================] - 23s 462us/step - loss: 1.4996 - acc: 0.4813 - val_loss: 1.4893 - val_acc: 0.4938\n",
      "Epoch 36/50\n",
      "50000/50000 [==============================] - 23s 463us/step - loss: 1.5066 - acc: 0.4780 - val_loss: 1.4362 - val_acc: 0.5109\n",
      "Epoch 37/50\n",
      "50000/50000 [==============================] - 23s 464us/step - loss: 1.4921 - acc: 0.4862 - val_loss: 1.5049 - val_acc: 0.4817\n",
      "Epoch 38/50\n",
      "50000/50000 [==============================] - 23s 461us/step - loss: 1.4832 - acc: 0.4873 - val_loss: 1.4330 - val_acc: 0.5058\n",
      "Epoch 39/50\n",
      "50000/50000 [==============================] - 23s 462us/step - loss: 1.4846 - acc: 0.4881 - val_loss: 1.4692 - val_acc: 0.4869\n",
      "Epoch 40/50\n",
      "50000/50000 [==============================] - 23s 462us/step - loss: 1.4718 - acc: 0.4904 - val_loss: 1.4737 - val_acc: 0.4879\n",
      "Epoch 41/50\n",
      "50000/50000 [==============================] - 23s 461us/step - loss: 1.4632 - acc: 0.4939 - val_loss: 1.4418 - val_acc: 0.5078\n",
      "Epoch 42/50\n",
      "50000/50000 [==============================] - 23s 464us/step - loss: 1.4583 - acc: 0.4952 - val_loss: 1.4791 - val_acc: 0.4979\n",
      "Epoch 43/50\n",
      "50000/50000 [==============================] - 23s 461us/step - loss: 1.4489 - acc: 0.5013 - val_loss: 1.4624 - val_acc: 0.4921\n",
      "Epoch 44/50\n",
      "50000/50000 [==============================] - 23s 465us/step - loss: 1.4506 - acc: 0.5006 - val_loss: 1.4363 - val_acc: 0.5070\n",
      "Epoch 45/50\n",
      "50000/50000 [==============================] - 23s 467us/step - loss: 1.4450 - acc: 0.5010 - val_loss: 1.4211 - val_acc: 0.5137\n",
      "Epoch 46/50\n"
     ]
    },
    {
     "name": "stdout",
     "output_type": "stream",
     "text": [
      "50000/50000 [==============================] - 22s 440us/step - loss: 1.4564 - acc: 0.4975 - val_loss: 1.5654 - val_acc: 0.4604\n",
      "Epoch 47/50\n",
      "50000/50000 [==============================] - 22s 439us/step - loss: 1.4536 - acc: 0.4991 - val_loss: 1.4935 - val_acc: 0.4765\n",
      "Epoch 48/50\n",
      "50000/50000 [==============================] - 22s 441us/step - loss: 1.4408 - acc: 0.5034 - val_loss: 1.4491 - val_acc: 0.5033\n",
      "Epoch 49/50\n",
      "50000/50000 [==============================] - 24s 477us/step - loss: 1.4455 - acc: 0.5000 - val_loss: 1.4902 - val_acc: 0.4932\n",
      "Epoch 50/50\n",
      "50000/50000 [==============================] - 24s 472us/step - loss: 1.4517 - acc: 0.5002 - val_loss: 1.4433 - val_acc: 0.5073\n"
     ]
    }
   ],
   "source": [
    "\"\"\"\n",
    "Your Training loop and Plot the results\n",
    "\"\"\"\n",
    "model = build_mlp(input_shape=x_train.shape[1:], drp_ratio=Dropout_EXP)\n",
    "model.summary()\n",
    "optimizer = keras.optimizers.Adamax(lr=0.002, beta_1=0.9, beta_2=0.999, epsilon=None, decay=0.0)\n",
    "model.compile(loss=\"categorical_crossentropy\", metrics=[\"accuracy\"], optimizer=optimizer)\n",
    "\n",
    "model.fit(x_train, y_train, \n",
    "          epochs=EPOCHS, \n",
    "          batch_size=BATCH_SIZE, \n",
    "          validation_data=(x_test, y_test), \n",
    "          shuffle=True,\n",
    "          callbacks=[earlystop]\n",
    "         )\n",
    "\n",
    "# Collect results\n",
    "train_loss = model.history.history[\"loss\"]\n",
    "valid_loss = model.history.history[\"val_loss\"]\n",
    "train_acc = model.history.history[\"acc\"]\n",
    "valid_acc = model.history.history[\"val_acc\"]"
   ]
  },
  {
   "cell_type": "code",
   "execution_count": 14,
   "metadata": {},
   "outputs": [
    {
     "data": {
      "image/png": "[encoded data removed]",
      "text/plain": [
       "<Figure size 432x288 with 1 Axes>"
      ]
     },
     "metadata": {
      "needs_background": "light"
     },
     "output_type": "display_data"
    },
    {
     "data": {
      "image/png": "[encoded data removed]",
      "text/plain": [
       "<Figure size 432x288 with 1 Axes>"
      ]
     },
     "metadata": {
      "needs_background": "light"
     },
     "output_type": "display_data"
    }
   ],
   "source": [
    "import matplotlib.pyplot as plt\n",
    "%matplotlib inline\n",
    "\n",
    "plt.plot(range(len(train_loss)), train_loss, label=\"train loss\")\n",
    "plt.plot(range(len(valid_loss)), valid_loss, label=\"valid loss\")\n",
    "plt.legend()\n",
    "plt.title(\"Loss\")\n",
    "plt.show()\n",
    "\n",
    "plt.plot(range(len(train_acc)), train_acc, label=\"train accuracy\")\n",
    "plt.plot(range(len(valid_acc)), valid_acc, label=\"valid accuracy\")\n",
    "plt.legend()\n",
    "plt.title(\"Accuracy\")\n",
    "plt.show()"
   ]
  },
  {
   "cell_type": "code",
   "execution_count": null,
   "metadata": {},
   "outputs": [],
   "source": []
  }
 ],
 "metadata": {
  "kernelspec": {
   "display_name": "Python 3",
   "language": "python",
   "name": "python3"
  },
  "language_info": {
   "codemirror_mode": {
    "name": "ipython",
    "version": 3
   },
   "file_extension": ".py",
   "mimetype": "text/x-python",
   "name": "python",
   "nbconvert_exporter": "python",
   "pygments_lexer": "ipython3",
   "version": "3.6.8"
  }
 },
 "nbformat": 4,
 "nbformat_minor": 2
}
