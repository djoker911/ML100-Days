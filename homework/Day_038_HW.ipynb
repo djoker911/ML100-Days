{
 "cells": [
  {
   "cell_type": "markdown",
   "metadata": {},
   "source": [
    "## 練習時間\n",
    "試著使用 sklearn datasets 的其他資料集 (wine, boston, ...)，來訓練自己的線性迴歸模型。"
   ]
  },
  {
   "cell_type": "markdown",
   "metadata": {},
   "source": [
    "### HINT: 注意 label 的型態，確定資料集的目標是分類還是回歸，在使用正確的模型訓練！"
   ]
  },
  {
   "cell_type": "code",
   "execution_count": 17,
   "metadata": {},
   "outputs": [],
   "source": [
    "import numpy as np\n",
    "import matplotlib.pyplot as plt\n",
    "from sklearn import datasets, linear_model\n",
    "from sklearn.model_selection import train_test_split\n",
    "from sklearn.metrics import mean_squared_error, r2_score, accuracy_score"
   ]
  },
  {
   "cell_type": "code",
   "execution_count": 18,
   "metadata": {},
   "outputs": [
    {
     "name": "stdout",
     "output_type": "stream",
     "text": [
      "Accuracy:  0.9444444444444444\n"
     ]
    }
   ],
   "source": [
    "wine = datasets.load_wine()\n",
    "x_train, x_test, y_train, y_test = train_test_split(wine.data, wine.target, test_size=0.1, random_state=4)\n",
    "logreg = linear_model.LogisticRegression()\n",
    "logreg.fit(x_train, y_train)\n",
    "y_pred = logreg.predict(x_test)\n",
    "\n",
    "acc = accuracy_score(y_test, y_pred)\n",
    "print(\"Accuracy: \", acc)"
   ]
  },
  {
   "cell_type": "code",
   "execution_count": 19,
   "metadata": {},
   "outputs": [
    {
     "name": "stdout",
     "output_type": "stream",
     "text": [
      "Coefficients:  [[-5.88823606e-01  6.67279749e-01  1.00961687e+00 -5.81003601e-01\n",
      "  -3.55192192e-02  3.62083060e-01  1.18897149e+00  3.78431892e-03\n",
      "  -4.54779283e-01 -1.53566777e-01 -1.62106310e-01  9.11564140e-01\n",
      "   1.77906258e-02]\n",
      " [ 9.37729336e-01 -1.09737303e+00 -7.34714525e-01  2.45357461e-01\n",
      "   1.27783208e-02  4.30734170e-02  5.69655329e-01  5.23060050e-01\n",
      "   5.88205686e-01 -1.88787472e+00  9.38878510e-01  8.93372880e-02\n",
      "  -1.45558899e-02]\n",
      " [-3.44877618e-01  6.57378629e-01  3.90432269e-02  1.20175740e-01\n",
      "   1.94696375e-02 -6.60620543e-01 -1.84324382e+00 -9.24618158e-02\n",
      "  -6.79666412e-01  1.08773340e+00 -4.94768312e-01 -1.20152083e+00\n",
      "   2.92068607e-04]]\n",
      "Mean squared error: 0.06\n"
     ]
    }
   ],
   "source": [
    "print('Coefficients: ', logreg.coef_)\n",
    "print(\"Mean squared error: %.2f\"\n",
    "      % mean_squared_error(y_test, y_pred))"
   ]
  },
  {
   "cell_type": "code",
   "execution_count": null,
   "metadata": {},
   "outputs": [],
   "source": []
  }
 ],
 "metadata": {
  "kernelspec": {
   "display_name": "Python 3",
   "language": "python",
   "name": "python3"
  },
  "language_info": {
   "codemirror_mode": {
    "name": "ipython",
    "version": 3
   },
   "file_extension": ".py",
   "mimetype": "text/x-python",
   "name": "python",
   "nbconvert_exporter": "python",
   "pygments_lexer": "ipython3",
   "version": "3.7.0"
  }
 },
 "nbformat": 4,
 "nbformat_minor": 2
}
