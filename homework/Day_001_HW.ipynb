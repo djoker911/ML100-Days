{
 "cells": [
  {
   "cell_type": "markdown",
   "metadata": {},
   "source": [
    "作業1：\n",
    "\n",
    "請上 Kaggle, 在 Competitions 或 Dataset 中找一組競賽或資料並寫下：\n",
    "\n",
    "1. 你選的這組資料為何重要\n",
    "\n",
    "2. 資料從何而來 (tips: 譬如提供者是誰、以什麼方式蒐集)\n",
    "\n",
    "3. 蒐集而來的資料型態為何\n",
    "\n",
    "4. 這組資料想解決的問題如何評估"
   ]
  },
  {
   "cell_type": "markdown",
   "metadata": {},
   "source": [
    "A1 :\n",
    "Titanic: Machine Learning from Disaster\n",
    "1. 預測鐵達尼號上面怎樣的人比較容易死掉\n",
    "2. Kaggle官方提供\n",
    "3. CSV 格式如下:\n",
    "    Variable\tDefinition\t       \n",
    "    survival\tSurvival\t       \n",
    "    pclass\t    Ticket class\t   \n",
    "    sex\t        Sex\t\n",
    "    Age\t        Age in years\t\n",
    "    sibsp\t    # of siblings / spouses aboard the Titanic\t\n",
    "    parch\t    # of parents / children aboard the Titanic\t\n",
    "    ticket\t    Ticket number\t\n",
    "    fare\t    Passenger fare\t\n",
    "    cabin\t    Cabin number\t\n",
    "    embarked\tPort of Embarkation\n",
    "    \n",
    "4. 給定資料在上傳之後會根據預測的Survival的答案去跟正確答案比較給出準確率"
   ]
  },
  {
   "cell_type": "markdown",
   "metadata": {},
   "source": [
    "作業2：\n",
    "\n",
    "想像你經營一個自由載客車隊，你希望能透過數據分析以提升業績，請你思考並描述你如何規劃整體的分析/解決方案：\n",
    "\n",
    "\n",
    "\n",
    "1. 核心問題為何 (tips：如何定義 「提升業績 & 你的假設」)\n",
    "\n",
    "2. 資料從何而來 (tips：哪些資料可能會對你想問的問題產生影響 & 資料如何蒐集)\n",
    "\n",
    "3. 蒐集而來的資料型態為何\n",
    "\n",
    "4. 你要回答的問題，其如何評估 (tips：你的假設如何驗證)"
   ]
  },
  {
   "cell_type": "markdown",
   "metadata": {},
   "source": [
    "A2:\n",
    "1.假設提升載客量和提升業績有關, 所以需要找到提升載客量相關的數據\n",
    "\n",
    "2.車子上面可以放感應器回傳車子的位置, 或是哪邊接到客人跟放下客人,以及是在哪個時間段\n",
    "    -這些資訊可以用來分析客人都集中在哪些地方或是哪個時間段, 還有司機的行走路線是否有更好的方式可以用更少的時間送客\n",
    "     人到目的地, 而常接到跟放下客人的點或許可以開放這段路線的特價優惠吸引更多人搭乘\n",
    "     \n",
    "  利用爬蟲去搜集在哪些地方有大型活動或特別活動的資訊\n",
    "    -有活動就會有交通需求, 可以多派一些車在附近等\n",
    "    \n",
    "3. 車子的話用JSON\n",
    "   {\n",
    "       id : 車輛id,\n",
    "       lat:緯度,\n",
    "       lon:經度,\n",
    "       dt:目前時間,\n",
    "       vaccant:是否空車\n",
    "   }\n",
    "   \n",
    "   爬蟲下來可以考慮塞RDB \n",
    "   location: 地址\n",
    "   start_time: 開始時間\n",
    "   end_time: 結束時間\n",
    "   type: 活動性質(e.q. 遊行, 演唱會, 展覽, ... etc)\n",
    "   ranking: 根據爬蟲下來的文章或許可以根據壹些標準計算像是出現次數之類的, 可以排名後做優先推薦\n",
    "\n",
    "4. 利用目前所知道的載客量去跟套用這些策略後的載客量做比較看是否有提升"
   ]
  },
  {
   "cell_type": "markdown",
   "metadata": {},
   "source": [
    "## 練習時間\n",
    "#### 請寫一個函式用來計算 Mean Square Error\n",
    "$ MSE = \\frac{1}{n}\\sum_{i=1}^{n}{(Y_i - \\hat{Y}_i)^2} $\n",
    "\n",
    "### Hint: [如何取平方](https://googoodesign.gitbooks.io/-ezpython/unit-1.html)"
   ]
  },
  {
   "cell_type": "code",
   "execution_count": 10,
   "metadata": {},
   "outputs": [],
   "source": [
    "import numpy as np\n",
    "import matplotlib.pyplot as plt"
   ]
  },
  {
   "cell_type": "code",
   "execution_count": 11,
   "metadata": {},
   "outputs": [],
   "source": [
    "def mean_absolute_error(y, yp):\n",
    "    \"\"\"\n",
    "    計算 MAE\n",
    "    Args:\n",
    "        - y: 實際值\n",
    "        - yp: 預測值\n",
    "    Return:\n",
    "        - mae: MAE\n",
    "    \"\"\"\n",
    "    mae = MAE = sum(abs(y - yp)) / len(y)\n",
    "    return mae\n"
   ]
  },
  {
   "cell_type": "code",
   "execution_count": 12,
   "metadata": {},
   "outputs": [],
   "source": [
    "def mean_squared_error(y, yp):\n",
    "    \"\"\"\n",
    "    請完成這個 Function 後往下執行\n",
    "    \"\"\"\n",
    "    mse = MSE = sum(np.square(y-yp)) / len(y)\n",
    "    return mse\n"
   ]
  },
  {
   "cell_type": "code",
   "execution_count": 13,
   "metadata": {},
   "outputs": [
    {
     "data": {
      "image/png": "[encoded data removed]",
      "text/plain": [
       "<Figure size 432x288 with 1 Axes>"
      ]
     },
     "metadata": {
      "needs_background": "light"
     },
     "output_type": "display_data"
    }
   ],
   "source": [
    "w = 3\n",
    "b = 0.5\n",
    "\n",
    "x_lin = np.linspace(0, 100, 101)\n",
    "\n",
    "y = (x_lin + np.random.randn(101) * 5) * w + b\n",
    "\n",
    "plt.plot(x_lin, y, 'b.', label = 'data points')\n",
    "plt.title(\"Assume we have data points\")\n",
    "plt.legend(loc = 2)\n",
    "plt.show()"
   ]
  },
  {
   "cell_type": "code",
   "execution_count": 14,
   "metadata": {},
   "outputs": [
    {
     "data": {
      "image/png": "[encoded data removed]",
      "text/plain": [
       "<Figure size 432x288 with 1 Axes>"
      ]
     },
     "metadata": {
      "needs_background": "light"
     },
     "output_type": "display_data"
    }
   ],
   "source": [
    "y_hat = x_lin * w + b\n",
    "plt.plot(x_lin, y, 'b.', label = 'data')\n",
    "plt.plot(x_lin, y_hat, 'r-', label = 'prediction')\n",
    "plt.title(\"Assume we have data points (And the prediction)\")\n",
    "plt.legend(loc = 2)\n",
    "plt.show()"
   ]
  },
  {
   "cell_type": "code",
   "execution_count": 15,
   "metadata": {},
   "outputs": [
    {
     "name": "stdout",
     "output_type": "stream",
     "text": [
      "The Mean squared error is 249.289\n",
      "The Mean absolute error is 12.989\n"
     ]
    }
   ],
   "source": [
    "# 執行 Function, 確認有沒有正常執行\n",
    "MSE = mean_squared_error(y, y_hat)\n",
    "MAE = mean_absolute_error(y, y_hat)\n",
    "print(\"The Mean squared error is %.3f\" % (MSE))\n",
    "print(\"The Mean absolute error is %.3f\" % (MAE))"
   ]
  },
  {
   "cell_type": "code",
   "execution_count": null,
   "metadata": {},
   "outputs": [],
   "source": []
  }
 ],
 "metadata": {
  "anaconda-cloud": {},
  "kernelspec": {
   "display_name": "Python 3",
   "language": "python",
   "name": "python3"
  },
  "language_info": {
   "codemirror_mode": {
    "name": "ipython",
    "version": 3
   },
   "file_extension": ".py",
   "mimetype": "text/x-python",
   "name": "python",
   "nbconvert_exporter": "python",
   "pygments_lexer": "ipython3",
   "version": "3.7.0"
  }
 },
 "nbformat": 4,
 "nbformat_minor": 1
}
