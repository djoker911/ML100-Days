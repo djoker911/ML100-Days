{
 "cells": [
  {
   "cell_type": "markdown",
   "metadata": {},
   "source": [
    "## Work\n",
    "1. 請嘗試將 preproc_x 替換成以每筆資料的 min/max 進行標準化至 -1 ~ 1 間，再進行訓練\n",
    "2. 請嘗試將 mlp 疊更深 (e.g 5~10 層)，進行訓練後觀察 learning curve 的走勢\n",
    "3. (optional) 請改用 GPU 進行訓練 (如果你有 GPU 的話)，比較使用 CPU 與 GPU 的訓練速度"
   ]
  },
  {
   "cell_type": "code",
   "execution_count": 1,
   "metadata": {},
   "outputs": [],
   "source": [
    "## 確認硬體資源\n",
    "\"\"\"\n",
    "Your code here\n",
    "\"\"\"\n"
   ]
  },
  {
   "cell_type": "code",
   "execution_count": 1,
   "metadata": {},
   "outputs": [
    {
     "name": "stderr",
     "output_type": "stream",
     "text": [
      "Using TensorFlow backend.\n"
     ]
    }
   ],
   "source": [
    "import os\n",
    "import keras\n",
    "os.environ[\"KMP_DUPLICATE_LIB_OK\"]=\"TRUE\"\n",
    "# Try to enable GPU (optional)\n"
   ]
  },
  {
   "cell_type": "code",
   "execution_count": 2,
   "metadata": {},
   "outputs": [],
   "source": [
    "train, test = keras.datasets.cifar10.load_data()"
   ]
  },
  {
   "cell_type": "code",
   "execution_count": 3,
   "metadata": {},
   "outputs": [],
   "source": [
    "## 資料前處理\n",
    "\"\"\"\n",
    "Your code here\n",
    "\"\"\"\n",
    "def preproc_x(x, flatten=True):\n",
    "    x = (x / 255.)-1\n",
    "    if flatten:\n",
    "        x = x.reshape((len(x), -1))\n",
    "    return x\n",
    "\n",
    "def preproc_y(y, num_classes=10):\n",
    "    if y.shape[-1] == 1:\n",
    "        y = keras.utils.to_categorical(y, num_classes)\n",
    "    return y "
   ]
  },
  {
   "cell_type": "code",
   "execution_count": 4,
   "metadata": {},
   "outputs": [],
   "source": [
    "x_train, y_train = train\n",
    "x_test, y_test = test\n",
    "\n",
    "# Preproc the inputs\n",
    "x_train = preproc_x(x_train)\n",
    "x_test = preproc_x(x_test)\n",
    "\n",
    "# Preprc the outputs\n",
    "y_train = preproc_y(y_train)\n",
    "y_test = preproc_y(y_test)"
   ]
  },
  {
   "cell_type": "code",
   "execution_count": 8,
   "metadata": {},
   "outputs": [],
   "source": [
    "\"\"\"\n",
    "Your code here\n",
    "\"\"\"\n",
    "def build_mlp(input_shape, output_units=10, num_neurons=[512, 256, 128, 64, 32]):\n",
    "    input_layer = keras.layers.Input(input_shape)\n",
    "    \n",
    "    for i, n_units in enumerate(num_neurons):\n",
    "        if i == 0:\n",
    "            x = keras.layers.Dense(units=n_units, activation=\"relu\", name=\"hidden_layer\"+str(i+1))(input_layer)\n",
    "        else:\n",
    "            x = keras.layers.Dense(units=n_units, activation=\"relu\", name=\"hidden_layer\"+str(i+1))(x)\n",
    "    \n",
    "    out = keras.layers.Dense(units=output_units, activation=\"softmax\", name=\"output\")(x)\n",
    "    \n",
    "    model = keras.models.Model(inputs=[input_layer], outputs=[out])\n",
    "    return model"
   ]
  },
  {
   "cell_type": "code",
   "execution_count": 9,
   "metadata": {},
   "outputs": [
    {
     "name": "stdout",
     "output_type": "stream",
     "text": [
      "_________________________________________________________________\n",
      "Layer (type)                 Output Shape              Param #   \n",
      "=================================================================\n",
      "input_2 (InputLayer)         (None, 3072)              0         \n",
      "_________________________________________________________________\n",
      "hidden_layer1 (Dense)        (None, 512)               1573376   \n",
      "_________________________________________________________________\n",
      "hidden_layer2 (Dense)        (None, 256)               131328    \n",
      "_________________________________________________________________\n",
      "hidden_layer3 (Dense)        (None, 128)               32896     \n",
      "_________________________________________________________________\n",
      "hidden_layer4 (Dense)        (None, 64)                8256      \n",
      "_________________________________________________________________\n",
      "hidden_layer5 (Dense)        (None, 32)                2080      \n",
      "_________________________________________________________________\n",
      "output (Dense)               (None, 10)                330       \n",
      "=================================================================\n",
      "Total params: 1,748,266\n",
      "Trainable params: 1,748,266\n",
      "Non-trainable params: 0\n",
      "_________________________________________________________________\n"
     ]
    }
   ],
   "source": [
    "model = build_mlp(input_shape=x_train.shape[1:])\n",
    "model.summary()"
   ]
  },
  {
   "cell_type": "code",
   "execution_count": 10,
   "metadata": {},
   "outputs": [],
   "source": [
    "## 超參數設定\n",
    "LEARNING_RATE = 0.001\n",
    "EPOCHS = 100\n",
    "BATCH_SIZE = 256"
   ]
  },
  {
   "cell_type": "code",
   "execution_count": 11,
   "metadata": {},
   "outputs": [],
   "source": [
    "optimizer = keras.optimizers.Adam(lr=LEARNING_RATE)\n",
    "model.compile(loss=\"categorical_crossentropy\", metrics=[\"accuracy\"], optimizer=optimizer)"
   ]
  },
  {
   "cell_type": "code",
   "execution_count": 12,
   "metadata": {},
   "outputs": [
    {
     "name": "stdout",
     "output_type": "stream",
     "text": [
      "Train on 50000 samples, validate on 10000 samples\n",
      "Epoch 1/100\n",
      "50000/50000 [==============================] - 17s 345us/step - loss: 2.2178 - acc: 0.1645 - val_loss: 2.1003 - val_acc: 0.2140\n",
      "Epoch 2/100\n",
      "50000/50000 [==============================] - 15s 301us/step - loss: 1.9893 - acc: 0.2560 - val_loss: 1.8879 - val_acc: 0.3037\n",
      "Epoch 3/100\n",
      "50000/50000 [==============================] - 15s 298us/step - loss: 1.8254 - acc: 0.3369 - val_loss: 1.8123 - val_acc: 0.3587\n",
      "Epoch 4/100\n",
      "50000/50000 [==============================] - 15s 304us/step - loss: 1.7272 - acc: 0.3765 - val_loss: 1.6844 - val_acc: 0.3925\n",
      "Epoch 5/100\n",
      "50000/50000 [==============================] - 15s 304us/step - loss: 1.6512 - acc: 0.4070 - val_loss: 1.6089 - val_acc: 0.4273\n",
      "Epoch 6/100\n",
      "50000/50000 [==============================] - 15s 306us/step - loss: 1.5911 - acc: 0.4320 - val_loss: 1.6021 - val_acc: 0.4331\n",
      "Epoch 7/100\n",
      "50000/50000 [==============================] - 16s 311us/step - loss: 1.5462 - acc: 0.4452 - val_loss: 1.5440 - val_acc: 0.4472\n",
      "Epoch 8/100\n",
      "50000/50000 [==============================] - 16s 314us/step - loss: 1.5087 - acc: 0.4626 - val_loss: 1.5049 - val_acc: 0.4648\n",
      "Epoch 9/100\n",
      "50000/50000 [==============================] - 16s 312us/step - loss: 1.4658 - acc: 0.4784 - val_loss: 1.5197 - val_acc: 0.4625\n",
      "Epoch 10/100\n",
      "50000/50000 [==============================] - 16s 321us/step - loss: 1.4317 - acc: 0.4892 - val_loss: 1.5332 - val_acc: 0.4572\n",
      "Epoch 11/100\n",
      "50000/50000 [==============================] - 16s 314us/step - loss: 1.4111 - acc: 0.4951 - val_loss: 1.4596 - val_acc: 0.4814\n",
      "Epoch 12/100\n",
      "50000/50000 [==============================] - 16s 315us/step - loss: 1.3865 - acc: 0.5049 - val_loss: 1.4404 - val_acc: 0.4893\n",
      "Epoch 13/100\n",
      "50000/50000 [==============================] - 16s 319us/step - loss: 1.3474 - acc: 0.5195 - val_loss: 1.4316 - val_acc: 0.4995\n",
      "Epoch 14/100\n",
      "50000/50000 [==============================] - 16s 321us/step - loss: 1.3392 - acc: 0.5218 - val_loss: 1.4335 - val_acc: 0.4977\n",
      "Epoch 15/100\n",
      "50000/50000 [==============================] - 16s 324us/step - loss: 1.3154 - acc: 0.5292 - val_loss: 1.4043 - val_acc: 0.5069\n",
      "Epoch 16/100\n",
      "50000/50000 [==============================] - 16s 323us/step - loss: 1.2841 - acc: 0.5440 - val_loss: 1.4208 - val_acc: 0.5073\n",
      "Epoch 17/100\n",
      "50000/50000 [==============================] - 16s 317us/step - loss: 1.2650 - acc: 0.5493 - val_loss: 1.4079 - val_acc: 0.5046\n",
      "Epoch 18/100\n",
      "50000/50000 [==============================] - 16s 313us/step - loss: 1.2471 - acc: 0.5561 - val_loss: 1.4161 - val_acc: 0.5093\n",
      "Epoch 19/100\n",
      "50000/50000 [==============================] - 16s 315us/step - loss: 1.2233 - acc: 0.5643 - val_loss: 1.4021 - val_acc: 0.5122\n",
      "Epoch 20/100\n",
      "50000/50000 [==============================] - 16s 317us/step - loss: 1.2083 - acc: 0.5693 - val_loss: 1.4208 - val_acc: 0.5123\n",
      "Epoch 21/100\n",
      "50000/50000 [==============================] - 16s 319us/step - loss: 1.1826 - acc: 0.5763 - val_loss: 1.3903 - val_acc: 0.5262\n",
      "Epoch 22/100\n",
      "50000/50000 [==============================] - 16s 319us/step - loss: 1.1684 - acc: 0.5824 - val_loss: 1.4253 - val_acc: 0.5087\n",
      "Epoch 23/100\n",
      "50000/50000 [==============================] - 16s 325us/step - loss: 1.1556 - acc: 0.5866 - val_loss: 1.4225 - val_acc: 0.5115\n",
      "Epoch 24/100\n",
      "50000/50000 [==============================] - 16s 326us/step - loss: 1.1360 - acc: 0.5928 - val_loss: 1.4137 - val_acc: 0.5115\n",
      "Epoch 25/100\n",
      "50000/50000 [==============================] - 16s 320us/step - loss: 1.1100 - acc: 0.6019 - val_loss: 1.4155 - val_acc: 0.5142\n",
      "Epoch 26/100\n",
      "50000/50000 [==============================] - 16s 326us/step - loss: 1.0946 - acc: 0.6090 - val_loss: 1.4092 - val_acc: 0.5162\n",
      "Epoch 27/100\n",
      "50000/50000 [==============================] - 16s 322us/step - loss: 1.0816 - acc: 0.6118 - val_loss: 1.4317 - val_acc: 0.5141\n",
      "Epoch 28/100\n",
      "50000/50000 [==============================] - 16s 325us/step - loss: 1.0734 - acc: 0.6152 - val_loss: 1.4126 - val_acc: 0.5264\n",
      "Epoch 29/100\n",
      "50000/50000 [==============================] - 16s 325us/step - loss: 1.0496 - acc: 0.6219 - val_loss: 1.4861 - val_acc: 0.5076\n",
      "Epoch 30/100\n",
      "50000/50000 [==============================] - 16s 327us/step - loss: 1.0362 - acc: 0.6290 - val_loss: 1.4409 - val_acc: 0.5141\n",
      "Epoch 31/100\n",
      "50000/50000 [==============================] - 16s 327us/step - loss: 1.0186 - acc: 0.6344 - val_loss: 1.4506 - val_acc: 0.5206\n",
      "Epoch 32/100\n",
      "50000/50000 [==============================] - 16s 327us/step - loss: 0.9926 - acc: 0.6428 - val_loss: 1.4762 - val_acc: 0.5197\n",
      "Epoch 33/100\n",
      "50000/50000 [==============================] - 16s 326us/step - loss: 0.9792 - acc: 0.6505 - val_loss: 1.4879 - val_acc: 0.5154\n",
      "Epoch 34/100\n",
      "50000/50000 [==============================] - 16s 328us/step - loss: 0.9745 - acc: 0.6509 - val_loss: 1.5044 - val_acc: 0.5167\n",
      "Epoch 35/100\n",
      "50000/50000 [==============================] - 16s 327us/step - loss: 0.9486 - acc: 0.6600 - val_loss: 1.4807 - val_acc: 0.5179\n",
      "Epoch 36/100\n",
      "50000/50000 [==============================] - 16s 327us/step - loss: 0.9427 - acc: 0.6626 - val_loss: 1.5168 - val_acc: 0.5141\n",
      "Epoch 37/100\n",
      "50000/50000 [==============================] - 16s 329us/step - loss: 0.9380 - acc: 0.6628 - val_loss: 1.5543 - val_acc: 0.5116\n",
      "Epoch 38/100\n",
      "50000/50000 [==============================] - 16s 328us/step - loss: 0.9135 - acc: 0.6699 - val_loss: 1.5070 - val_acc: 0.5268\n",
      "Epoch 39/100\n",
      "50000/50000 [==============================] - 16s 329us/step - loss: 0.8892 - acc: 0.6809 - val_loss: 1.5350 - val_acc: 0.5201\n",
      "Epoch 40/100\n",
      "50000/50000 [==============================] - 16s 329us/step - loss: 0.8777 - acc: 0.6826 - val_loss: 1.5747 - val_acc: 0.5189\n",
      "Epoch 41/100\n",
      "50000/50000 [==============================] - 15s 305us/step - loss: 0.8717 - acc: 0.6864 - val_loss: 1.5706 - val_acc: 0.5127\n",
      "Epoch 42/100\n",
      "50000/50000 [==============================] - 15s 303us/step - loss: 0.8674 - acc: 0.6895 - val_loss: 1.6195 - val_acc: 0.5089\n",
      "Epoch 43/100\n",
      "50000/50000 [==============================] - 15s 302us/step - loss: 0.8489 - acc: 0.6934 - val_loss: 1.6086 - val_acc: 0.5182\n",
      "Epoch 44/100\n",
      "50000/50000 [==============================] - 15s 305us/step - loss: 0.8337 - acc: 0.7010 - val_loss: 1.6404 - val_acc: 0.5144\n",
      "Epoch 45/100\n",
      "50000/50000 [==============================] - 15s 308us/step - loss: 0.8188 - acc: 0.7066 - val_loss: 1.6962 - val_acc: 0.5024\n",
      "Epoch 46/100\n",
      "50000/50000 [==============================] - 15s 306us/step - loss: 0.7943 - acc: 0.7159 - val_loss: 1.6810 - val_acc: 0.5139\n",
      "Epoch 47/100\n",
      "50000/50000 [==============================] - 17s 342us/step - loss: 0.7935 - acc: 0.7130 - val_loss: 1.6961 - val_acc: 0.5060\n",
      "Epoch 48/100\n",
      "50000/50000 [==============================] - 18s 358us/step - loss: 0.7882 - acc: 0.7165 - val_loss: 1.7476 - val_acc: 0.5130\n",
      "Epoch 49/100\n",
      "50000/50000 [==============================] - 18s 356us/step - loss: 0.7668 - acc: 0.7251 - val_loss: 1.7686 - val_acc: 0.5075\n",
      "Epoch 50/100\n",
      "50000/50000 [==============================] - 18s 356us/step - loss: 0.7544 - acc: 0.7269 - val_loss: 1.7721 - val_acc: 0.5020\n",
      "Epoch 51/100\n",
      "50000/50000 [==============================] - 18s 358us/step - loss: 0.7470 - acc: 0.7307 - val_loss: 1.7723 - val_acc: 0.5041\n",
      "Epoch 52/100\n",
      "50000/50000 [==============================] - 18s 357us/step - loss: 0.7285 - acc: 0.7391 - val_loss: 1.8133 - val_acc: 0.5117\n",
      "Epoch 53/100\n",
      "50000/50000 [==============================] - 18s 360us/step - loss: 0.7211 - acc: 0.7423 - val_loss: 1.8023 - val_acc: 0.5070\n",
      "Epoch 54/100\n",
      "50000/50000 [==============================] - 18s 357us/step - loss: 0.7135 - acc: 0.7447 - val_loss: 1.8583 - val_acc: 0.5042\n",
      "Epoch 55/100\n",
      "50000/50000 [==============================] - 18s 357us/step - loss: 0.7097 - acc: 0.7448 - val_loss: 1.8696 - val_acc: 0.5049\n",
      "Epoch 56/100\n",
      "50000/50000 [==============================] - 18s 352us/step - loss: 0.7038 - acc: 0.7474 - val_loss: 1.7981 - val_acc: 0.5143\n",
      "Epoch 57/100\n",
      "50000/50000 [==============================] - 18s 358us/step - loss: 0.6802 - acc: 0.7564 - val_loss: 1.8929 - val_acc: 0.5054\n",
      "Epoch 58/100\n",
      "50000/50000 [==============================] - 18s 361us/step - loss: 0.6794 - acc: 0.7571 - val_loss: 1.8995 - val_acc: 0.5052\n"
     ]
    },
    {
     "name": "stdout",
     "output_type": "stream",
     "text": [
      "Epoch 59/100\n",
      "50000/50000 [==============================] - 18s 352us/step - loss: 0.6614 - acc: 0.7641 - val_loss: 1.9862 - val_acc: 0.5027\n",
      "Epoch 60/100\n",
      "50000/50000 [==============================] - 17s 350us/step - loss: 0.6698 - acc: 0.7599 - val_loss: 1.9654 - val_acc: 0.5023\n",
      "Epoch 61/100\n",
      "50000/50000 [==============================] - 18s 351us/step - loss: 0.6427 - acc: 0.7686 - val_loss: 2.0242 - val_acc: 0.5046\n",
      "Epoch 62/100\n",
      "50000/50000 [==============================] - 18s 357us/step - loss: 0.6393 - acc: 0.7690 - val_loss: 1.9899 - val_acc: 0.5039\n",
      "Epoch 63/100\n",
      "50000/50000 [==============================] - 18s 352us/step - loss: 0.6316 - acc: 0.7712 - val_loss: 2.0507 - val_acc: 0.5027\n",
      "Epoch 64/100\n",
      "50000/50000 [==============================] - 18s 354us/step - loss: 0.6237 - acc: 0.7768 - val_loss: 2.0769 - val_acc: 0.5060\n",
      "Epoch 65/100\n",
      "50000/50000 [==============================] - 18s 352us/step - loss: 0.6304 - acc: 0.7722 - val_loss: 2.1063 - val_acc: 0.4944\n",
      "Epoch 66/100\n",
      "50000/50000 [==============================] - 18s 359us/step - loss: 0.6147 - acc: 0.7794 - val_loss: 2.0862 - val_acc: 0.4993\n",
      "Epoch 67/100\n",
      "50000/50000 [==============================] - 18s 357us/step - loss: 0.6041 - acc: 0.7843 - val_loss: 2.1218 - val_acc: 0.5068\n",
      "Epoch 68/100\n",
      "50000/50000 [==============================] - 18s 358us/step - loss: 0.5881 - acc: 0.7873 - val_loss: 2.1318 - val_acc: 0.5051\n",
      "Epoch 69/100\n",
      "50000/50000 [==============================] - 18s 360us/step - loss: 0.5835 - acc: 0.7903 - val_loss: 2.1756 - val_acc: 0.5058\n",
      "Epoch 70/100\n",
      "50000/50000 [==============================] - 18s 357us/step - loss: 0.5814 - acc: 0.7921 - val_loss: 2.1977 - val_acc: 0.5002\n",
      "Epoch 71/100\n",
      "50000/50000 [==============================] - 18s 362us/step - loss: 0.5552 - acc: 0.8000 - val_loss: 2.2070 - val_acc: 0.5023\n",
      "Epoch 72/100\n",
      "50000/50000 [==============================] - 18s 361us/step - loss: 0.5596 - acc: 0.7960 - val_loss: 2.3182 - val_acc: 0.4977\n",
      "Epoch 73/100\n",
      "50000/50000 [==============================] - 18s 360us/step - loss: 0.5537 - acc: 0.8014 - val_loss: 2.3063 - val_acc: 0.5005\n",
      "Epoch 74/100\n",
      "50000/50000 [==============================] - 18s 361us/step - loss: 0.5576 - acc: 0.7994 - val_loss: 2.3408 - val_acc: 0.4957\n",
      "Epoch 75/100\n",
      "50000/50000 [==============================] - 18s 361us/step - loss: 0.5526 - acc: 0.8011 - val_loss: 2.2699 - val_acc: 0.5008\n",
      "Epoch 76/100\n",
      "50000/50000 [==============================] - 18s 365us/step - loss: 0.5471 - acc: 0.8033 - val_loss: 2.3734 - val_acc: 0.4982\n",
      "Epoch 77/100\n",
      "50000/50000 [==============================] - 18s 370us/step - loss: 0.5340 - acc: 0.8088 - val_loss: 2.3221 - val_acc: 0.4952\n",
      "Epoch 78/100\n",
      "50000/50000 [==============================] - 18s 364us/step - loss: 0.5332 - acc: 0.8080 - val_loss: 2.3574 - val_acc: 0.5064\n",
      "Epoch 79/100\n",
      "50000/50000 [==============================] - 19s 382us/step - loss: 0.5084 - acc: 0.8165 - val_loss: 2.3970 - val_acc: 0.4989\n",
      "Epoch 80/100\n",
      "50000/50000 [==============================] - 19s 376us/step - loss: 0.5267 - acc: 0.8100 - val_loss: 2.3789 - val_acc: 0.5014\n",
      "Epoch 81/100\n",
      "50000/50000 [==============================] - 19s 378us/step - loss: 0.5071 - acc: 0.8176 - val_loss: 2.4013 - val_acc: 0.5040\n",
      "Epoch 82/100\n",
      "50000/50000 [==============================] - 19s 376us/step - loss: 0.4997 - acc: 0.8202 - val_loss: 2.5450 - val_acc: 0.4928\n",
      "Epoch 83/100\n",
      "50000/50000 [==============================] - 19s 380us/step - loss: 0.4954 - acc: 0.8213 - val_loss: 2.5482 - val_acc: 0.4965\n",
      "Epoch 84/100\n",
      "50000/50000 [==============================] - 19s 384us/step - loss: 0.5000 - acc: 0.8204 - val_loss: 2.4588 - val_acc: 0.4968\n",
      "Epoch 85/100\n",
      "50000/50000 [==============================] - 19s 384us/step - loss: 0.4982 - acc: 0.8210 - val_loss: 2.4814 - val_acc: 0.5025\n",
      "Epoch 86/100\n",
      "50000/50000 [==============================] - 19s 378us/step - loss: 0.4958 - acc: 0.8206 - val_loss: 2.4985 - val_acc: 0.5018\n",
      "Epoch 87/100\n",
      "50000/50000 [==============================] - 19s 379us/step - loss: 0.4615 - acc: 0.8343 - val_loss: 2.4959 - val_acc: 0.4983\n",
      "Epoch 88/100\n",
      "50000/50000 [==============================] - 19s 378us/step - loss: 0.4733 - acc: 0.8291 - val_loss: 2.5259 - val_acc: 0.4945\n",
      "Epoch 89/100\n",
      "50000/50000 [==============================] - 19s 382us/step - loss: 0.4698 - acc: 0.8306 - val_loss: 2.5305 - val_acc: 0.4923\n",
      "Epoch 90/100\n",
      "50000/50000 [==============================] - 19s 379us/step - loss: 0.4621 - acc: 0.8353 - val_loss: 2.5963 - val_acc: 0.4888\n",
      "Epoch 91/100\n",
      "50000/50000 [==============================] - 20s 391us/step - loss: 0.4524 - acc: 0.8376 - val_loss: 2.7025 - val_acc: 0.4890\n",
      "Epoch 92/100\n",
      "50000/50000 [==============================] - 19s 382us/step - loss: 0.4829 - acc: 0.8260 - val_loss: 2.6113 - val_acc: 0.4892\n",
      "Epoch 93/100\n",
      "50000/50000 [==============================] - 19s 386us/step - loss: 0.4404 - acc: 0.8411 - val_loss: 2.6568 - val_acc: 0.4934\n",
      "Epoch 94/100\n",
      "50000/50000 [==============================] - 19s 390us/step - loss: 0.4536 - acc: 0.8371 - val_loss: 2.6742 - val_acc: 0.4870\n",
      "Epoch 95/100\n",
      "50000/50000 [==============================] - 19s 388us/step - loss: 0.4416 - acc: 0.8414 - val_loss: 2.6138 - val_acc: 0.4953\n",
      "Epoch 96/100\n",
      "50000/50000 [==============================] - 19s 385us/step - loss: 0.4194 - acc: 0.8514 - val_loss: 2.6703 - val_acc: 0.4994\n",
      "Epoch 97/100\n",
      "50000/50000 [==============================] - 20s 392us/step - loss: 0.4298 - acc: 0.8446 - val_loss: 2.7038 - val_acc: 0.4904\n",
      "Epoch 98/100\n",
      "50000/50000 [==============================] - 20s 392us/step - loss: 0.4236 - acc: 0.8465 - val_loss: 2.8300 - val_acc: 0.4947\n",
      "Epoch 99/100\n",
      "50000/50000 [==============================] - 20s 394us/step - loss: 0.4311 - acc: 0.8466 - val_loss: 2.7080 - val_acc: 0.4856\n",
      "Epoch 100/100\n",
      "50000/50000 [==============================] - 19s 388us/step - loss: 0.4309 - acc: 0.8448 - val_loss: 2.7226 - val_acc: 0.4966\n"
     ]
    },
    {
     "data": {
      "text/plain": [
       "<keras.callbacks.History at 0xb3ee236d8>"
      ]
     },
     "execution_count": 12,
     "metadata": {},
     "output_type": "execute_result"
    }
   ],
   "source": [
    "model.fit(x_train, y_train, \n",
    "          epochs=EPOCHS, \n",
    "          batch_size=BATCH_SIZE, \n",
    "          validation_data=(x_test, y_test), \n",
    "          shuffle=True)"
   ]
  },
  {
   "cell_type": "code",
   "execution_count": 14,
   "metadata": {},
   "outputs": [
    {
     "data": {
      "image/png": "[encoded data removed]",
      "text/plain": [
       "<Figure size 432x288 with 1 Axes>"
      ]
     },
     "metadata": {
      "needs_background": "light"
     },
     "output_type": "display_data"
    },
    {
     "data": {
      "image/png": "[encoded data removed]",
      "text/plain": [
       "<Figure size 432x288 with 1 Axes>"
      ]
     },
     "metadata": {
      "needs_background": "light"
     },
     "output_type": "display_data"
    }
   ],
   "source": [
    "import matplotlib.pyplot as plt\n",
    "\n",
    "\n",
    "train_loss = model.history.history[\"loss\"]\n",
    "valid_loss = model.history.history[\"val_loss\"]\n",
    "\n",
    "train_acc = model.history.history[\"acc\"]\n",
    "valid_acc = model.history.history[\"val_acc\"]\n",
    "\n",
    "plt.plot(range(len(train_loss)), train_loss, label=\"train loss\")\n",
    "plt.plot(range(len(valid_loss)), valid_loss, label=\"valid loss\")\n",
    "plt.legend()\n",
    "plt.title(\"Loss\")\n",
    "plt.show()\n",
    "\n",
    "plt.plot(range(len(train_acc)), train_acc, label=\"train accuracy\")\n",
    "plt.plot(range(len(valid_acc)), valid_acc, label=\"valid accuracy\")\n",
    "plt.legend()\n",
    "plt.title(\"Accuracy\")\n",
    "plt.show()"
   ]
  },
  {
   "cell_type": "code",
   "execution_count": null,
   "metadata": {},
   "outputs": [],
   "source": []
  }
 ],
 "metadata": {
  "kernelspec": {
   "display_name": "Python 3",
   "language": "python",
   "name": "python3"
  },
  "language_info": {
   "codemirror_mode": {
    "name": "ipython",
    "version": 3
   },
   "file_extension": ".py",
   "mimetype": "text/x-python",
   "name": "python",
   "nbconvert_exporter": "python",
   "pygments_lexer": "ipython3",
   "version": "3.6.8"
  }
 },
 "nbformat": 4,
 "nbformat_minor": 2
}
