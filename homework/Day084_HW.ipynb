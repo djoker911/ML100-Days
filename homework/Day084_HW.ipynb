{
 "cells": [
  {
   "cell_type": "markdown",
   "metadata": {},
   "source": [
    "## Work\n",
    "請結合前面的知識與程式碼，比較不同的 regularization 的組合對訓練的結果與影響：如 dropout, regularizers, batch-normalization 等"
   ]
  },
  {
   "cell_type": "code",
   "execution_count": 1,
   "metadata": {},
   "outputs": [
    {
     "name": "stderr",
     "output_type": "stream",
     "text": [
      "Using TensorFlow backend.\n"
     ]
    }
   ],
   "source": [
    "import os\n",
    "import keras\n",
    "import itertools\n",
    "os.environ[\"KMP_DUPLICATE_LIB_OK\"]=\"TRUE\"\n",
    "\n",
    "# Disable GPU\n",
    "os.environ[\"CUDA_VISIBLE_DEVICES\"] = \"\""
   ]
  },
  {
   "cell_type": "code",
   "execution_count": 2,
   "metadata": {},
   "outputs": [],
   "source": [
    "train, test = keras.datasets.cifar10.load_data()"
   ]
  },
  {
   "cell_type": "code",
   "execution_count": 3,
   "metadata": {},
   "outputs": [],
   "source": [
    "## 資料前處理\n",
    "def preproc_x(x, flatten=True):\n",
    "    x = x / 255.\n",
    "    if flatten:\n",
    "        x = x.reshape((len(x), -1))\n",
    "    return x\n",
    "\n",
    "def preproc_y(y, num_classes=10):\n",
    "    if y.shape[-1] == 1:\n",
    "        y = keras.utils.to_categorical(y, num_classes)\n",
    "    return y    "
   ]
  },
  {
   "cell_type": "code",
   "execution_count": 4,
   "metadata": {},
   "outputs": [],
   "source": [
    "x_train, y_train = train\n",
    "x_test, y_test = test\n",
    "\n",
    "# Preproc the inputs\n",
    "x_train = preproc_x(x_train)\n",
    "x_test = preproc_x(x_test)\n",
    "\n",
    "# Preprc the outputs\n",
    "y_train = preproc_y(y_train)\n",
    "y_test = preproc_y(y_test)"
   ]
  },
  {
   "cell_type": "code",
   "execution_count": 5,
   "metadata": {},
   "outputs": [],
   "source": [
    "# Hint 1 : 在 Dense 層中增加 Regularizers\n",
    "# Hint 2 : 增加 Dropout 層並設定 dropout ratio \n",
    "# Hint 3 : 增加 Batch-normalization 層\n",
    "from keras.layers import BatchNormalization, Dropout\n",
    "from keras.regularizers import l2\n",
    "def build_mlp(input_shape, output_units=10, num_neurons=[512, 256, 128], drp_ratio=0.4, l2_ratio=1e-4):\n",
    "    input_layer = keras.layers.Input(input_shape)\n",
    "    \n",
    "    for i, n_units in enumerate(num_neurons):\n",
    "        if i == 0:\n",
    "            x = keras.layers.Dense(units=n_units, \n",
    "                                   activation=\"relu\", \n",
    "                                   name=\"hidden_layer\"+str(i+1),\n",
    "                                   kernel_regularizer=l2(l2_ratio))(input_layer)\n",
    "            x = Dropout(drp_ratio)(x)\n",
    "            x = BatchNormalization()(x)\n",
    "        else:\n",
    "            x = keras.layers.Dense(units=n_units, \n",
    "                                   activation=\"relu\", \n",
    "                                   name=\"hidden_layer\"+str(i+1),\n",
    "                                   kernel_regularizer=l2(l2_ratio))(x)\n",
    "            x = Dropout(drp_ratio)(x)\n",
    "            x = BatchNormalization()(x)\n",
    "    \n",
    "    out = keras.layers.Dense(units=output_units, activation=\"softmax\", name=\"output\")(x)\n",
    "    \n",
    "    model = keras.models.Model(inputs=[input_layer], outputs=[out])\n",
    "    return model"
   ]
  },
  {
   "cell_type": "code",
   "execution_count": 6,
   "metadata": {},
   "outputs": [],
   "source": [
    "## 超參數設定\n",
    "\"\"\"\n",
    "Set your hyper-parameters\n",
    "\"\"\"\n",
    "LEARNING_RATE = 1e-3\n",
    "EPOCHS = 50\n",
    "BATCH_SIZE = 256\n",
    "MOMENTUM = 0.95\n",
    "Dropout_EXP = 0.25"
   ]
  },
  {
   "cell_type": "code",
   "execution_count": 7,
   "metadata": {
    "scrolled": true
   },
   "outputs": [
    {
     "name": "stdout",
     "output_type": "stream",
     "text": [
      "_________________________________________________________________\n",
      "Layer (type)                 Output Shape              Param #   \n",
      "=================================================================\n",
      "input_1 (InputLayer)         (None, 3072)              0         \n",
      "_________________________________________________________________\n",
      "hidden_layer1 (Dense)        (None, 512)               1573376   \n",
      "_________________________________________________________________\n",
      "dropout_1 (Dropout)          (None, 512)               0         \n",
      "_________________________________________________________________\n",
      "batch_normalization_1 (Batch (None, 512)               2048      \n",
      "_________________________________________________________________\n",
      "hidden_layer2 (Dense)        (None, 256)               131328    \n",
      "_________________________________________________________________\n",
      "dropout_2 (Dropout)          (None, 256)               0         \n",
      "_________________________________________________________________\n",
      "batch_normalization_2 (Batch (None, 256)               1024      \n",
      "_________________________________________________________________\n",
      "hidden_layer3 (Dense)        (None, 128)               32896     \n",
      "_________________________________________________________________\n",
      "dropout_3 (Dropout)          (None, 128)               0         \n",
      "_________________________________________________________________\n",
      "batch_normalization_3 (Batch (None, 128)               512       \n",
      "_________________________________________________________________\n",
      "output (Dense)               (None, 10)                1290      \n",
      "=================================================================\n",
      "Total params: 1,742,474\n",
      "Trainable params: 1,740,682\n",
      "Non-trainable params: 1,792\n",
      "_________________________________________________________________\n",
      "Train on 50000 samples, validate on 10000 samples\n",
      "Epoch 1/50\n",
      "50000/50000 [==============================] - 28s 558us/step - loss: 2.2615 - acc: 0.2663 - val_loss: 1.9414 - val_acc: 0.3307\n",
      "Epoch 2/50\n",
      "50000/50000 [==============================] - 23s 463us/step - loss: 1.9673 - acc: 0.3397 - val_loss: 1.8862 - val_acc: 0.3625\n",
      "Epoch 3/50\n",
      "50000/50000 [==============================] - 23s 463us/step - loss: 1.8760 - acc: 0.3756 - val_loss: 1.7773 - val_acc: 0.3905\n",
      "Epoch 4/50\n",
      "50000/50000 [==============================] - 24s 484us/step - loss: 1.8188 - acc: 0.3940 - val_loss: 1.7547 - val_acc: 0.4211\n",
      "Epoch 5/50\n",
      "50000/50000 [==============================] - 24s 479us/step - loss: 1.7827 - acc: 0.4060 - val_loss: 1.7921 - val_acc: 0.3924\n",
      "Epoch 6/50\n",
      "50000/50000 [==============================] - 24s 482us/step - loss: 1.7555 - acc: 0.4172 - val_loss: 1.6894 - val_acc: 0.4414\n",
      "Epoch 7/50\n",
      "50000/50000 [==============================] - 24s 482us/step - loss: 1.7427 - acc: 0.4167 - val_loss: 1.6979 - val_acc: 0.4259\n",
      "Epoch 8/50\n",
      "50000/50000 [==============================] - 24s 489us/step - loss: 1.7186 - acc: 0.4254 - val_loss: 1.7133 - val_acc: 0.4106\n",
      "Epoch 9/50\n",
      "50000/50000 [==============================] - 24s 472us/step - loss: 1.7035 - acc: 0.4291 - val_loss: 1.6489 - val_acc: 0.4503\n",
      "Epoch 10/50\n",
      "50000/50000 [==============================] - 23s 465us/step - loss: 1.6787 - acc: 0.4359 - val_loss: 1.6896 - val_acc: 0.4303\n",
      "Epoch 11/50\n",
      "50000/50000 [==============================] - 23s 465us/step - loss: 1.6698 - acc: 0.4382 - val_loss: 1.6058 - val_acc: 0.4531\n",
      "Epoch 12/50\n",
      "50000/50000 [==============================] - 23s 469us/step - loss: 1.6538 - acc: 0.4436 - val_loss: 1.6106 - val_acc: 0.4596\n",
      "Epoch 13/50\n",
      "50000/50000 [==============================] - 23s 469us/step - loss: 1.6363 - acc: 0.4465 - val_loss: 1.5812 - val_acc: 0.4660\n",
      "Epoch 14/50\n",
      "50000/50000 [==============================] - 24s 472us/step - loss: 1.6176 - acc: 0.4496 - val_loss: 1.5565 - val_acc: 0.4691\n",
      "Epoch 15/50\n",
      "50000/50000 [==============================] - 23s 468us/step - loss: 1.6101 - acc: 0.4538 - val_loss: 1.6113 - val_acc: 0.4528\n",
      "Epoch 16/50\n",
      "50000/50000 [==============================] - 23s 469us/step - loss: 1.5952 - acc: 0.4547 - val_loss: 1.6273 - val_acc: 0.4534\n",
      "Epoch 17/50\n",
      "50000/50000 [==============================] - 24s 470us/step - loss: 1.5883 - acc: 0.4581 - val_loss: 1.5943 - val_acc: 0.4484\n",
      "Epoch 18/50\n",
      "50000/50000 [==============================] - 23s 468us/step - loss: 1.5860 - acc: 0.4576 - val_loss: 1.6408 - val_acc: 0.4315\n",
      "Epoch 19/50\n",
      "50000/50000 [==============================] - 24s 471us/step - loss: 1.5691 - acc: 0.4603 - val_loss: 1.5025 - val_acc: 0.4835\n",
      "Epoch 20/50\n",
      "50000/50000 [==============================] - 24s 472us/step - loss: 1.5544 - acc: 0.4662 - val_loss: 1.5580 - val_acc: 0.4606\n",
      "Epoch 21/50\n",
      "50000/50000 [==============================] - 24s 474us/step - loss: 1.5540 - acc: 0.4664 - val_loss: 1.6068 - val_acc: 0.4435\n",
      "Epoch 22/50\n",
      "50000/50000 [==============================] - 24s 472us/step - loss: 1.5473 - acc: 0.4682 - val_loss: 1.4913 - val_acc: 0.4839\n",
      "Epoch 23/50\n",
      "50000/50000 [==============================] - 23s 469us/step - loss: 1.5437 - acc: 0.4679 - val_loss: 1.5252 - val_acc: 0.4723\n",
      "Epoch 24/50\n",
      "50000/50000 [==============================] - 24s 472us/step - loss: 1.5464 - acc: 0.4687 - val_loss: 1.5075 - val_acc: 0.4862\n",
      "Epoch 25/50\n",
      "50000/50000 [==============================] - 24s 478us/step - loss: 1.5510 - acc: 0.4661 - val_loss: 1.5055 - val_acc: 0.4786\n",
      "Epoch 26/50\n",
      "50000/50000 [==============================] - 24s 473us/step - loss: 1.5329 - acc: 0.4747 - val_loss: 1.5927 - val_acc: 0.4433\n",
      "Epoch 27/50\n",
      "50000/50000 [==============================] - 24s 474us/step - loss: 1.5301 - acc: 0.4725 - val_loss: 1.5096 - val_acc: 0.4753\n",
      "Epoch 28/50\n",
      "50000/50000 [==============================] - 24s 475us/step - loss: 1.5205 - acc: 0.4765 - val_loss: 1.5357 - val_acc: 0.4653\n",
      "Epoch 29/50\n",
      "50000/50000 [==============================] - 24s 471us/step - loss: 1.5155 - acc: 0.4783 - val_loss: 1.4937 - val_acc: 0.4892\n",
      "Epoch 30/50\n",
      "50000/50000 [==============================] - 24s 472us/step - loss: 1.5081 - acc: 0.4818 - val_loss: 1.5126 - val_acc: 0.4809\n",
      "Epoch 31/50\n",
      "50000/50000 [==============================] - 24s 475us/step - loss: 1.5064 - acc: 0.4820 - val_loss: 1.5038 - val_acc: 0.4803\n",
      "Epoch 32/50\n",
      "50000/50000 [==============================] - 24s 482us/step - loss: 1.4973 - acc: 0.4860 - val_loss: 1.4672 - val_acc: 0.4955\n",
      "Epoch 33/50\n",
      "50000/50000 [==============================] - 24s 480us/step - loss: 1.4970 - acc: 0.4857 - val_loss: 1.4752 - val_acc: 0.4881\n",
      "Epoch 34/50\n",
      "50000/50000 [==============================] - 24s 476us/step - loss: 1.4978 - acc: 0.4844 - val_loss: 1.5040 - val_acc: 0.4800\n",
      "Epoch 35/50\n",
      "50000/50000 [==============================] - 24s 480us/step - loss: 1.4861 - acc: 0.4898 - val_loss: 1.4984 - val_acc: 0.4796\n",
      "Epoch 36/50\n",
      "50000/50000 [==============================] - 24s 478us/step - loss: 1.4724 - acc: 0.4938 - val_loss: 1.4898 - val_acc: 0.4808\n",
      "Epoch 37/50\n",
      "50000/50000 [==============================] - 24s 479us/step - loss: 1.4662 - acc: 0.4943 - val_loss: 1.4903 - val_acc: 0.4917\n",
      "Epoch 38/50\n",
      "50000/50000 [==============================] - 24s 484us/step - loss: 1.4798 - acc: 0.4901 - val_loss: 1.5196 - val_acc: 0.4780\n",
      "Epoch 39/50\n",
      "50000/50000 [==============================] - 24s 478us/step - loss: 1.4676 - acc: 0.4932 - val_loss: 1.4699 - val_acc: 0.5001\n",
      "Epoch 40/50\n",
      "50000/50000 [==============================] - 24s 482us/step - loss: 1.4614 - acc: 0.4979 - val_loss: 1.4475 - val_acc: 0.5041\n",
      "Epoch 41/50\n",
      "50000/50000 [==============================] - 24s 481us/step - loss: 1.4571 - acc: 0.5008 - val_loss: 1.5760 - val_acc: 0.4439\n",
      "Epoch 42/50\n",
      "50000/50000 [==============================] - 24s 479us/step - loss: 1.4620 - acc: 0.4944 - val_loss: 1.4864 - val_acc: 0.4905\n",
      "Epoch 43/50\n",
      "50000/50000 [==============================] - 24s 480us/step - loss: 1.4630 - acc: 0.4970 - val_loss: 1.5592 - val_acc: 0.4642\n",
      "Epoch 44/50\n",
      "50000/50000 [==============================] - 24s 485us/step - loss: 1.4495 - acc: 0.5011 - val_loss: 1.5696 - val_acc: 0.4637\n",
      "Epoch 45/50\n",
      "50000/50000 [==============================] - 24s 480us/step - loss: 1.4536 - acc: 0.5022 - val_loss: 1.5185 - val_acc: 0.4763\n",
      "Epoch 46/50\n"
     ]
    },
    {
     "name": "stdout",
     "output_type": "stream",
     "text": [
      "50000/50000 [==============================] - 23s 461us/step - loss: 1.4465 - acc: 0.5065 - val_loss: 1.4860 - val_acc: 0.4910\n",
      "Epoch 47/50\n",
      "50000/50000 [==============================] - 23s 459us/step - loss: 1.4629 - acc: 0.4991 - val_loss: 1.5242 - val_acc: 0.4833\n",
      "Epoch 48/50\n",
      "50000/50000 [==============================] - 23s 464us/step - loss: 1.4428 - acc: 0.5048 - val_loss: 1.4905 - val_acc: 0.4948\n",
      "Epoch 49/50\n",
      "50000/50000 [==============================] - 23s 463us/step - loss: 1.4459 - acc: 0.5063 - val_loss: 1.4362 - val_acc: 0.5045\n",
      "Epoch 50/50\n",
      "50000/50000 [==============================] - 23s 465us/step - loss: 1.4413 - acc: 0.5055 - val_loss: 1.4500 - val_acc: 0.5049\n"
     ]
    }
   ],
   "source": [
    "model = build_mlp(input_shape=x_train.shape[1:], drp_ratio=Dropout_EXP)\n",
    "model.summary()\n",
    "optimizer = keras.optimizers.Adamax(lr=0.002, beta_1=0.9, beta_2=0.999, epsilon=None, decay=0.0)\n",
    "model.compile(loss=\"categorical_crossentropy\", metrics=[\"accuracy\"], optimizer=optimizer)\n",
    "\n",
    "model.fit(x_train, y_train, \n",
    "          epochs=EPOCHS, \n",
    "          batch_size=BATCH_SIZE, \n",
    "          validation_data=(x_test, y_test), \n",
    "          shuffle=True)\n",
    "\n",
    "# Collect results\n",
    "train_loss = model.history.history[\"loss\"]\n",
    "valid_loss = model.history.history[\"val_loss\"]\n",
    "train_acc = model.history.history[\"acc\"]\n",
    "valid_acc = model.history.history[\"val_acc\"]"
   ]
  },
  {
   "cell_type": "code",
   "execution_count": 8,
   "metadata": {},
   "outputs": [
    {
     "data": {
      "image/png": "[encoded data removed]",
      "text/plain": [
       "<Figure size 432x288 with 1 Axes>"
      ]
     },
     "metadata": {
      "needs_background": "light"
     },
     "output_type": "display_data"
    },
    {
     "data": {
      "image/png": "[encoded data removed]",
      "text/plain": [
       "<Figure size 432x288 with 1 Axes>"
      ]
     },
     "metadata": {
      "needs_background": "light"
     },
     "output_type": "display_data"
    }
   ],
   "source": [
    "import matplotlib.pyplot as plt\n",
    "%matplotlib inline\n",
    "\n",
    "\"\"\"\n",
    "Plot results\n",
    "\"\"\"\n",
    "plt.plot(range(len(train_loss)), train_loss, label=\"train loss\")\n",
    "plt.plot(range(len(valid_loss)), valid_loss, label=\"valid loss\")\n",
    "plt.legend()\n",
    "plt.title(\"Loss\")\n",
    "plt.show()\n",
    "\n",
    "plt.plot(range(len(train_acc)), train_acc, label=\"train accuracy\")\n",
    "plt.plot(range(len(valid_acc)), valid_acc, label=\"valid accuracy\")\n",
    "plt.legend()\n",
    "plt.title(\"Accuracy\")\n",
    "plt.show()"
   ]
  },
  {
   "cell_type": "code",
   "execution_count": null,
   "metadata": {},
   "outputs": [],
   "source": []
  }
 ],
 "metadata": {
  "kernelspec": {
   "display_name": "Python 3",
   "language": "python",
   "name": "python3"
  },
  "language_info": {
   "codemirror_mode": {
    "name": "ipython",
    "version": 3
   },
   "file_extension": ".py",
   "mimetype": "text/x-python",
   "name": "python",
   "nbconvert_exporter": "python",
   "pygments_lexer": "ipython3",
   "version": "3.6.8"
  }
 },
 "nbformat": 4,
 "nbformat_minor": 2
}
