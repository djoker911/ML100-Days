{
 "cells": [
  {
   "cell_type": "markdown",
   "metadata": {},
   "source": [
    "## Work\n",
    "1. 試比較有 BN 在 Batch_size = 2, 16, 32, 128, 256 下的差異\n",
    "2. 請嘗試將 BN 放在 Activation 之前，並比較訓練結果\n",
    "3. 請於 BN 放在 Input Layer 後，並比較結果"
   ]
  },
  {
   "cell_type": "code",
   "execution_count": 1,
   "metadata": {},
   "outputs": [
    {
     "name": "stderr",
     "output_type": "stream",
     "text": [
      "Using TensorFlow backend.\n"
     ]
    }
   ],
   "source": [
    "import os\n",
    "import keras\n",
    "import itertools\n",
    "os.environ[\"KMP_DUPLICATE_LIB_OK\"]=\"TRUE\"\n",
    "\n",
    "# Disable GPU\n",
    "os.environ[\"CUDA_VISIBLE_DEVICES\"] = \"\""
   ]
  },
  {
   "cell_type": "code",
   "execution_count": 2,
   "metadata": {},
   "outputs": [],
   "source": [
    "train, test = keras.datasets.cifar10.load_data()"
   ]
  },
  {
   "cell_type": "code",
   "execution_count": 3,
   "metadata": {},
   "outputs": [],
   "source": [
    "## 資料前處理\n",
    "def preproc_x(x, flatten=True):\n",
    "    x = x / 255.\n",
    "    if flatten:\n",
    "        x = x.reshape((len(x), -1))\n",
    "    return x\n",
    "\n",
    "def preproc_y(y, num_classes=10):\n",
    "    if y.shape[-1] == 1:\n",
    "        y = keras.utils.to_categorical(y, num_classes)\n",
    "    return y    "
   ]
  },
  {
   "cell_type": "code",
   "execution_count": 4,
   "metadata": {},
   "outputs": [],
   "source": [
    "x_train, y_train = train\n",
    "x_test, y_test = test\n",
    "\n",
    "# Preproc the inputs\n",
    "x_train = preproc_x(x_train)\n",
    "x_test = preproc_x(x_test)\n",
    "\n",
    "# Preprc the outputs\n",
    "y_train = preproc_y(y_train)\n",
    "y_test = preproc_y(y_test)"
   ]
  },
  {
   "cell_type": "code",
   "execution_count": 15,
   "metadata": {},
   "outputs": [],
   "source": [
    "from keras.layers import BatchNormalization\n",
    "def build_mlp(input_shape, output_units=10, num_neurons=[512, 256, 128]):\n",
    "    input_layer = keras.layers.Input(input_shape)\n",
    "    \n",
    "    for i, n_units in enumerate(num_neurons):\n",
    "        if i == 0:\n",
    "            x = keras.layers.Dense(units=n_units, \n",
    "                                   activation=\"relu\", \n",
    "                                   name=\"hidden_layer\"+str(i+1))(input_layer)\n",
    "#             x = BatchNormalization()(x)\n",
    "        else:\n",
    "            x = keras.layers.Dense(units=n_units, \n",
    "                                   activation=\"relu\", \n",
    "                                   name=\"hidden_layer\"+str(i+1))(x)\n",
    "#             x = BatchNormalization()(x)\n",
    "    x = BatchNormalization()(x)\n",
    "    out = keras.layers.Dense(units=output_units, activation=\"softmax\", name=\"output\")(x)\n",
    "    \n",
    "    model = keras.models.Model(inputs=[input_layer], outputs=[out])\n",
    "    return model"
   ]
  },
  {
   "cell_type": "code",
   "execution_count": 18,
   "metadata": {},
   "outputs": [],
   "source": [
    "\n",
    "## 超參數設定\n",
    "LEARNING_RATE = 1e-3\n",
    "EPOCHS = 50\n",
    "BATCH_SIZE = 1024\n",
    "MOMENTUM = 0.95"
   ]
  },
  {
   "cell_type": "code",
   "execution_count": 19,
   "metadata": {
    "scrolled": true
   },
   "outputs": [
    {
     "name": "stdout",
     "output_type": "stream",
     "text": [
      "_________________________________________________________________\n",
      "Layer (type)                 Output Shape              Param #   \n",
      "=================================================================\n",
      "input_5 (InputLayer)         (None, 3072)              0         \n",
      "_________________________________________________________________\n",
      "hidden_layer1 (Dense)        (None, 512)               1573376   \n",
      "_________________________________________________________________\n",
      "hidden_layer2 (Dense)        (None, 256)               131328    \n",
      "_________________________________________________________________\n",
      "hidden_layer3 (Dense)        (None, 128)               32896     \n",
      "_________________________________________________________________\n",
      "batch_normalization_7 (Batch (None, 128)               512       \n",
      "_________________________________________________________________\n",
      "output (Dense)               (None, 10)                1290      \n",
      "=================================================================\n",
      "Total params: 1,739,402\n",
      "Trainable params: 1,739,146\n",
      "Non-trainable params: 256\n",
      "_________________________________________________________________\n",
      "Train on 50000 samples, validate on 10000 samples\n",
      "Epoch 1/50\n",
      "50000/50000 [==============================] - 9s 175us/step - loss: 2.0477 - acc: 0.2832 - val_loss: 1.9598 - val_acc: 0.3238\n",
      "Epoch 2/50\n",
      "50000/50000 [==============================] - 7s 149us/step - loss: 1.7733 - acc: 0.3805 - val_loss: 1.7686 - val_acc: 0.3822\n",
      "Epoch 3/50\n",
      "50000/50000 [==============================] - 8s 153us/step - loss: 1.7012 - acc: 0.4044 - val_loss: 1.7455 - val_acc: 0.3856\n",
      "Epoch 4/50\n",
      "50000/50000 [==============================] - 7s 148us/step - loss: 1.6490 - acc: 0.4268 - val_loss: 1.6879 - val_acc: 0.4133\n",
      "Epoch 5/50\n",
      "50000/50000 [==============================] - 8s 152us/step - loss: 1.6065 - acc: 0.4409 - val_loss: 1.6152 - val_acc: 0.4377\n",
      "Epoch 6/50\n",
      "50000/50000 [==============================] - 8s 151us/step - loss: 1.5722 - acc: 0.4525 - val_loss: 1.5976 - val_acc: 0.4420\n",
      "Epoch 7/50\n",
      "50000/50000 [==============================] - 7s 148us/step - loss: 1.5400 - acc: 0.4635 - val_loss: 1.5911 - val_acc: 0.4420\n",
      "Epoch 8/50\n",
      "50000/50000 [==============================] - 7s 150us/step - loss: 1.5126 - acc: 0.4729 - val_loss: 1.5906 - val_acc: 0.4457\n",
      "Epoch 9/50\n",
      "50000/50000 [==============================] - 8s 152us/step - loss: 1.4868 - acc: 0.4824 - val_loss: 1.5599 - val_acc: 0.4472\n",
      "Epoch 10/50\n",
      "50000/50000 [==============================] - 8s 151us/step - loss: 1.4638 - acc: 0.4894 - val_loss: 1.5341 - val_acc: 0.4602\n",
      "Epoch 11/50\n",
      "50000/50000 [==============================] - 8s 152us/step - loss: 1.4403 - acc: 0.4972 - val_loss: 1.5117 - val_acc: 0.4658\n",
      "Epoch 12/50\n",
      "50000/50000 [==============================] - 7s 148us/step - loss: 1.4188 - acc: 0.5062 - val_loss: 1.5013 - val_acc: 0.4703\n",
      "Epoch 13/50\n",
      "50000/50000 [==============================] - 8s 151us/step - loss: 1.3990 - acc: 0.5127 - val_loss: 1.4822 - val_acc: 0.4773\n",
      "Epoch 14/50\n",
      "50000/50000 [==============================] - 8s 150us/step - loss: 1.3797 - acc: 0.5186 - val_loss: 1.4778 - val_acc: 0.4839\n",
      "Epoch 15/50\n",
      "50000/50000 [==============================] - 8s 152us/step - loss: 1.3606 - acc: 0.5236 - val_loss: 1.4670 - val_acc: 0.4807\n",
      "Epoch 16/50\n",
      "50000/50000 [==============================] - 7s 149us/step - loss: 1.3420 - acc: 0.5323 - val_loss: 1.4524 - val_acc: 0.4857\n",
      "Epoch 17/50\n",
      "50000/50000 [==============================] - 8s 151us/step - loss: 1.3242 - acc: 0.5393 - val_loss: 1.4475 - val_acc: 0.4845\n",
      "Epoch 18/50\n",
      "50000/50000 [==============================] - 8s 152us/step - loss: 1.3064 - acc: 0.5443 - val_loss: 1.4436 - val_acc: 0.4890\n",
      "Epoch 19/50\n",
      "50000/50000 [==============================] - 8s 151us/step - loss: 1.2909 - acc: 0.5477 - val_loss: 1.4530 - val_acc: 0.4849\n",
      "Epoch 20/50\n",
      "50000/50000 [==============================] - 8s 151us/step - loss: 1.2730 - acc: 0.5572 - val_loss: 1.4486 - val_acc: 0.4841\n",
      "Epoch 21/50\n",
      "50000/50000 [==============================] - 8s 150us/step - loss: 1.2575 - acc: 0.5620 - val_loss: 1.4239 - val_acc: 0.4991\n",
      "Epoch 22/50\n",
      "50000/50000 [==============================] - 8s 153us/step - loss: 1.2394 - acc: 0.5670 - val_loss: 1.4149 - val_acc: 0.4965\n",
      "Epoch 23/50\n",
      "50000/50000 [==============================] - 7s 149us/step - loss: 1.2268 - acc: 0.5722 - val_loss: 1.4165 - val_acc: 0.5007\n",
      "Epoch 24/50\n",
      "50000/50000 [==============================] - 7s 148us/step - loss: 1.2104 - acc: 0.5776 - val_loss: 1.4084 - val_acc: 0.5018\n",
      "Epoch 25/50\n",
      "50000/50000 [==============================] - 8s 151us/step - loss: 1.1931 - acc: 0.5834 - val_loss: 1.4158 - val_acc: 0.5000\n",
      "Epoch 26/50\n",
      "50000/50000 [==============================] - 8s 154us/step - loss: 1.1804 - acc: 0.5901 - val_loss: 1.4258 - val_acc: 0.4943\n",
      "Epoch 27/50\n",
      "50000/50000 [==============================] - 8s 152us/step - loss: 1.1647 - acc: 0.5953 - val_loss: 1.4035 - val_acc: 0.5046\n",
      "Epoch 28/50\n",
      "50000/50000 [==============================] - 8s 152us/step - loss: 1.1508 - acc: 0.6001 - val_loss: 1.4208 - val_acc: 0.4993\n",
      "Epoch 29/50\n",
      "50000/50000 [==============================] - 7s 149us/step - loss: 1.1353 - acc: 0.6044 - val_loss: 1.4098 - val_acc: 0.5021\n",
      "Epoch 30/50\n",
      "50000/50000 [==============================] - 8s 150us/step - loss: 1.1183 - acc: 0.6128 - val_loss: 1.4136 - val_acc: 0.5039\n",
      "Epoch 31/50\n",
      "50000/50000 [==============================] - 8s 152us/step - loss: 1.1083 - acc: 0.6153 - val_loss: 1.4090 - val_acc: 0.5107\n",
      "Epoch 32/50\n",
      "50000/50000 [==============================] - 8s 152us/step - loss: 1.0940 - acc: 0.6209 - val_loss: 1.3989 - val_acc: 0.5115\n",
      "Epoch 33/50\n",
      "50000/50000 [==============================] - 8s 152us/step - loss: 1.0764 - acc: 0.6273 - val_loss: 1.4025 - val_acc: 0.5091\n",
      "Epoch 34/50\n",
      "50000/50000 [==============================] - 8s 151us/step - loss: 1.0610 - acc: 0.6326 - val_loss: 1.3923 - val_acc: 0.5109\n",
      "Epoch 35/50\n",
      "50000/50000 [==============================] - 8s 153us/step - loss: 1.0469 - acc: 0.6381 - val_loss: 1.4058 - val_acc: 0.5062\n",
      "Epoch 36/50\n",
      "50000/50000 [==============================] - 8s 154us/step - loss: 1.0349 - acc: 0.6423 - val_loss: 1.4057 - val_acc: 0.5099\n",
      "Epoch 37/50\n",
      "50000/50000 [==============================] - 8s 155us/step - loss: 1.0185 - acc: 0.6472 - val_loss: 1.4024 - val_acc: 0.5071\n",
      "Epoch 38/50\n",
      "50000/50000 [==============================] - 8s 157us/step - loss: 1.0026 - acc: 0.6530 - val_loss: 1.4434 - val_acc: 0.4972\n",
      "Epoch 39/50\n",
      "50000/50000 [==============================] - 8s 153us/step - loss: 0.9895 - acc: 0.6583 - val_loss: 1.4035 - val_acc: 0.5116\n",
      "Epoch 40/50\n",
      "50000/50000 [==============================] - 8s 157us/step - loss: 0.9737 - acc: 0.6649 - val_loss: 1.4034 - val_acc: 0.5147\n",
      "Epoch 41/50\n",
      "50000/50000 [==============================] - 8s 153us/step - loss: 0.9614 - acc: 0.6686 - val_loss: 1.4248 - val_acc: 0.5068\n",
      "Epoch 42/50\n",
      "50000/50000 [==============================] - 8s 155us/step - loss: 0.9471 - acc: 0.6768 - val_loss: 1.4318 - val_acc: 0.5090\n",
      "Epoch 43/50\n",
      "50000/50000 [==============================] - 8s 156us/step - loss: 0.9318 - acc: 0.6805 - val_loss: 1.4117 - val_acc: 0.5154\n",
      "Epoch 44/50\n",
      "50000/50000 [==============================] - 8s 156us/step - loss: 0.9150 - acc: 0.6864 - val_loss: 1.4220 - val_acc: 0.5182\n",
      "Epoch 45/50\n",
      "50000/50000 [==============================] - 8s 156us/step - loss: 0.8996 - acc: 0.6935 - val_loss: 1.4253 - val_acc: 0.5148\n",
      "Epoch 46/50\n",
      "50000/50000 [==============================] - 8s 156us/step - loss: 0.8856 - acc: 0.6977 - val_loss: 1.4341 - val_acc: 0.5087\n",
      "Epoch 47/50\n",
      "50000/50000 [==============================] - 8s 155us/step - loss: 0.8729 - acc: 0.7016 - val_loss: 1.4381 - val_acc: 0.5120\n",
      "Epoch 48/50\n",
      "50000/50000 [==============================] - 8s 158us/step - loss: 0.8593 - acc: 0.7087 - val_loss: 1.4425 - val_acc: 0.5122\n",
      "Epoch 49/50\n",
      "50000/50000 [==============================] - 8s 156us/step - loss: 0.8467 - acc: 0.7117 - val_loss: 1.4607 - val_acc: 0.5090\n",
      "Epoch 50/50\n",
      "50000/50000 [==============================] - 8s 157us/step - loss: 0.8295 - acc: 0.7183 - val_loss: 1.4642 - val_acc: 0.5083\n"
     ]
    }
   ],
   "source": [
    "model = build_mlp(input_shape=x_train.shape[1:])\n",
    "model.summary()\n",
    "optimizer = keras.optimizers.SGD(lr=LEARNING_RATE, nesterov=True, momentum=MOMENTUM)\n",
    "model.compile(loss=\"categorical_crossentropy\", metrics=[\"accuracy\"], optimizer=optimizer)\n",
    "\n",
    "model.fit(x_train, y_train, \n",
    "          epochs=EPOCHS, \n",
    "          batch_size=BATCH_SIZE, \n",
    "          validation_data=(x_test, y_test), \n",
    "          shuffle=True)\n",
    "\n",
    "# Collect results\n",
    "train_loss = model.history.history[\"loss\"]\n",
    "valid_loss = model.history.history[\"val_loss\"]\n",
    "train_acc = model.history.history[\"acc\"]\n",
    "valid_acc = model.history.history[\"val_acc\"]"
   ]
  },
  {
   "cell_type": "code",
   "execution_count": 20,
   "metadata": {},
   "outputs": [
    {
     "data": {
      "image/png": "[encoded data removed]",
      "text/plain": [
       "<Figure size 432x288 with 1 Axes>"
      ]
     },
     "metadata": {
      "needs_background": "light"
     },
     "output_type": "display_data"
    },
    {
     "data": {
      "image/png": "[encoded data removed]",
      "text/plain": [
       "<Figure size 432x288 with 1 Axes>"
      ]
     },
     "metadata": {
      "needs_background": "light"
     },
     "output_type": "display_data"
    }
   ],
   "source": [
    "import matplotlib.pyplot as plt\n",
    "%matplotlib inline\n",
    "\n",
    "plt.plot(range(len(train_loss)), train_loss, label=\"train loss\")\n",
    "plt.plot(range(len(valid_loss)), valid_loss, label=\"valid loss\")\n",
    "plt.legend()\n",
    "plt.title(\"Loss\")\n",
    "plt.show()\n",
    "\n",
    "plt.plot(range(len(train_acc)), train_acc, label=\"train accuracy\")\n",
    "plt.plot(range(len(valid_acc)), valid_acc, label=\"valid accuracy\")\n",
    "plt.legend()\n",
    "plt.title(\"Accuracy\")\n",
    "plt.show()"
   ]
  },
  {
   "cell_type": "code",
   "execution_count": null,
   "metadata": {},
   "outputs": [],
   "source": []
  }
 ],
 "metadata": {
  "kernelspec": {
   "display_name": "Python 3",
   "language": "python",
   "name": "python3"
  },
  "language_info": {
   "codemirror_mode": {
    "name": "ipython",
    "version": 3
   },
   "file_extension": ".py",
   "mimetype": "text/x-python",
   "name": "python",
   "nbconvert_exporter": "python",
   "pygments_lexer": "ipython3",
   "version": "3.6.8"
  }
 },
 "nbformat": 4,
 "nbformat_minor": 2
}
